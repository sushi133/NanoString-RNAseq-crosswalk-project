{
 "cells": [
  {
   "cell_type": "markdown",
   "id": "3ede6af4-bec4-44f0-8421-d24806ed2846",
   "metadata": {},
   "source": [
    "# Preprocessing Real Data (using non-paired Nanostring & RNA-seq)\n",
    "This notebook produces 6 different versions of counts\n",
    "1. Raw counts vs Normalized\n",
    "    * Normalization for Nanostring is already done\n",
    "    * RNA-seq normalization will be done with DESeq2 size factor generation (median-ratio)\n",
    "2. All RNA-seq counts (with reasonable count numbers) vs Just Nanostring Genes\n",
    "\n",
    "Nanostring counts have already been generated. Some genes are not shared so these genes will be fixed.\n",
    "\n",
    "Final Outputs:\n",
    "* RNAseq_normalized_all\n",
    "* RNAseq_normalized_filt\n",
    "* RNAseq_raw_all\n",
    "* RNAseq_raw_filt\n",
    "* Nanostring_norm\n",
    "* Nanostring_raw"
   ]
  },
  {
   "cell_type": "code",
   "execution_count": 39,
   "id": "287bc51e-e63b-4566-8a35-72124d147253",
   "metadata": {},
   "outputs": [],
   "source": [
    "library(data.table)\n",
    "library(stringr)\n",
    "library(DESeq2)"
   ]
  },
  {
   "cell_type": "markdown",
   "id": "cf8ec2df-7387-4b2e-9fdb-71d4573fc708",
   "metadata": {},
   "source": [
    "## 1. Read in the raw RNA-seq & raw/norm Nanostring counts"
   ]
  },
  {
   "cell_type": "code",
   "execution_count": 40,
   "id": "69b439a2-40ff-4a87-bacc-401f017b77e7",
   "metadata": {},
   "outputs": [
    {
     "data": {
      "text/html": [
       "<table class=\"dataframe\">\n",
       "<caption>A data.frame: 2 × 55</caption>\n",
       "<thead>\n",
       "\t<tr><th></th><th scope=col>Geneid</th><th scope=col>Chr</th><th scope=col>Start</th><th scope=col>End</th><th scope=col>Strand</th><th scope=col>Length</th><th scope=col>WSU_F_Post</th><th scope=col>WSU_F_Pre</th><th scope=col>WSU_E_Post</th><th scope=col>WSU_E_Pre</th><th scope=col>⋯</th><th scope=col>USF14_Pre</th><th scope=col>USF10_Post</th><th scope=col>USF10_Pre</th><th scope=col>USF7_Post</th><th scope=col>USF7_Pre</th><th scope=col>USF3_Post</th><th scope=col>USF3_Pre</th><th scope=col>USF1_Post</th><th scope=col>USF1_Pre</th><th scope=col>Fixed_Gene</th></tr>\n",
       "\t<tr><th></th><th scope=col>&lt;chr&gt;</th><th scope=col>&lt;chr&gt;</th><th scope=col>&lt;chr&gt;</th><th scope=col>&lt;chr&gt;</th><th scope=col>&lt;chr&gt;</th><th scope=col>&lt;int&gt;</th><th scope=col>&lt;int&gt;</th><th scope=col>&lt;int&gt;</th><th scope=col>&lt;int&gt;</th><th scope=col>&lt;int&gt;</th><th scope=col>⋯</th><th scope=col>&lt;int&gt;</th><th scope=col>&lt;int&gt;</th><th scope=col>&lt;int&gt;</th><th scope=col>&lt;int&gt;</th><th scope=col>&lt;int&gt;</th><th scope=col>&lt;int&gt;</th><th scope=col>&lt;int&gt;</th><th scope=col>&lt;int&gt;</th><th scope=col>&lt;int&gt;</th><th scope=col>&lt;chr&gt;</th></tr>\n",
       "</thead>\n",
       "<tbody>\n",
       "\t<tr><th scope=row>1</th><td>DDX11L1</td><td>chr1;chr1;chr1                                        </td><td>11874;12613;13221                                                </td><td>12227;12721;14409                                                </td><td>+;+;+                </td><td>1652</td><td> 0</td><td> 0</td><td> 0</td><td> 0</td><td>⋯</td><td> 0</td><td> 0</td><td> 0</td><td> 1</td><td> 1</td><td> 0</td><td> 0</td><td> 0</td><td> 0</td><td>DDX11L1</td></tr>\n",
       "\t<tr><th scope=row>2</th><td>WASH7P </td><td>chr1;chr1;chr1;chr1;chr1;chr1;chr1;chr1;chr1;chr1;chr1</td><td>14362;14970;15796;16607;16858;17233;17606;17915;18268;24738;29321</td><td>14829;15038;15947;16765;17055;17368;17742;18061;18366;24891;29370</td><td>-;-;-;-;-;-;-;-;-;-;-</td><td>1769</td><td>38</td><td>91</td><td>52</td><td>73</td><td>⋯</td><td>56</td><td>45</td><td>53</td><td>62</td><td>73</td><td>32</td><td>62</td><td>47</td><td>58</td><td>WASH7P </td></tr>\n",
       "</tbody>\n",
       "</table>\n"
      ],
      "text/latex": [
       "A data.frame: 2 × 55\n",
       "\\begin{tabular}{r|lllllllllllllllllllll}\n",
       "  & Geneid & Chr & Start & End & Strand & Length & WSU\\_F\\_Post & WSU\\_F\\_Pre & WSU\\_E\\_Post & WSU\\_E\\_Pre & ⋯ & USF14\\_Pre & USF10\\_Post & USF10\\_Pre & USF7\\_Post & USF7\\_Pre & USF3\\_Post & USF3\\_Pre & USF1\\_Post & USF1\\_Pre & Fixed\\_Gene\\\\\n",
       "  & <chr> & <chr> & <chr> & <chr> & <chr> & <int> & <int> & <int> & <int> & <int> & ⋯ & <int> & <int> & <int> & <int> & <int> & <int> & <int> & <int> & <int> & <chr>\\\\\n",
       "\\hline\n",
       "\t1 & DDX11L1 & chr1;chr1;chr1                                         & 11874;12613;13221                                                 & 12227;12721;14409                                                 & +;+;+                 & 1652 &  0 &  0 &  0 &  0 & ⋯ &  0 &  0 &  0 &  1 &  1 &  0 &  0 &  0 &  0 & DDX11L1\\\\\n",
       "\t2 & WASH7P  & chr1;chr1;chr1;chr1;chr1;chr1;chr1;chr1;chr1;chr1;chr1 & 14362;14970;15796;16607;16858;17233;17606;17915;18268;24738;29321 & 14829;15038;15947;16765;17055;17368;17742;18061;18366;24891;29370 & -;-;-;-;-;-;-;-;-;-;- & 1769 & 38 & 91 & 52 & 73 & ⋯ & 56 & 45 & 53 & 62 & 73 & 32 & 62 & 47 & 58 & WASH7P \\\\\n",
       "\\end{tabular}\n"
      ],
      "text/markdown": [
       "\n",
       "A data.frame: 2 × 55\n",
       "\n",
       "| <!--/--> | Geneid &lt;chr&gt; | Chr &lt;chr&gt; | Start &lt;chr&gt; | End &lt;chr&gt; | Strand &lt;chr&gt; | Length &lt;int&gt; | WSU_F_Post &lt;int&gt; | WSU_F_Pre &lt;int&gt; | WSU_E_Post &lt;int&gt; | WSU_E_Pre &lt;int&gt; | ⋯ ⋯ | USF14_Pre &lt;int&gt; | USF10_Post &lt;int&gt; | USF10_Pre &lt;int&gt; | USF7_Post &lt;int&gt; | USF7_Pre &lt;int&gt; | USF3_Post &lt;int&gt; | USF3_Pre &lt;int&gt; | USF1_Post &lt;int&gt; | USF1_Pre &lt;int&gt; | Fixed_Gene &lt;chr&gt; |\n",
       "|---|---|---|---|---|---|---|---|---|---|---|---|---|---|---|---|---|---|---|---|---|---|\n",
       "| 1 | DDX11L1 | chr1;chr1;chr1                                         | 11874;12613;13221                                                 | 12227;12721;14409                                                 | +;+;+                 | 1652 |  0 |  0 |  0 |  0 | ⋯ |  0 |  0 |  0 |  1 |  1 |  0 |  0 |  0 |  0 | DDX11L1 |\n",
       "| 2 | WASH7P  | chr1;chr1;chr1;chr1;chr1;chr1;chr1;chr1;chr1;chr1;chr1 | 14362;14970;15796;16607;16858;17233;17606;17915;18268;24738;29321 | 14829;15038;15947;16765;17055;17368;17742;18061;18366;24891;29370 | -;-;-;-;-;-;-;-;-;-;- | 1769 | 38 | 91 | 52 | 73 | ⋯ | 56 | 45 | 53 | 62 | 73 | 32 | 62 | 47 | 58 | WASH7P  |\n",
       "\n"
      ],
      "text/plain": [
       "  Geneid  Chr                                                   \n",
       "1 DDX11L1 chr1;chr1;chr1                                        \n",
       "2 WASH7P  chr1;chr1;chr1;chr1;chr1;chr1;chr1;chr1;chr1;chr1;chr1\n",
       "  Start                                                            \n",
       "1 11874;12613;13221                                                \n",
       "2 14362;14970;15796;16607;16858;17233;17606;17915;18268;24738;29321\n",
       "  End                                                              \n",
       "1 12227;12721;14409                                                \n",
       "2 14829;15038;15947;16765;17055;17368;17742;18061;18366;24891;29370\n",
       "  Strand                Length WSU_F_Post WSU_F_Pre WSU_E_Post WSU_E_Pre ⋯\n",
       "1 +;+;+                 1652    0          0         0          0        ⋯\n",
       "2 -;-;-;-;-;-;-;-;-;-;- 1769   38         91        52         73        ⋯\n",
       "  USF14_Pre USF10_Post USF10_Pre USF7_Post USF7_Pre USF3_Post USF3_Pre\n",
       "1  0         0          0         1         1        0         0      \n",
       "2 56        45         53        62        73       32        62      \n",
       "  USF1_Post USF1_Pre Fixed_Gene\n",
       "1  0         0       DDX11L1   \n",
       "2 47        58       WASH7P    "
      ]
     },
     "metadata": {},
     "output_type": "display_data"
    },
    {
     "data": {
      "text/html": [
       "<table class=\"dataframe\">\n",
       "<caption>A data.frame: 2 × 73</caption>\n",
       "<thead>\n",
       "\t<tr><th></th><th scope=col>Probe Name</th><th scope=col>Annotation</th><th scope=col>Accession #</th><th scope=col>NS Probe ID</th><th scope=col>Class Name</th><th scope=col>Analyte Type</th><th scope=col>% Samples above Threshold</th><th scope=col>Positive Flag</th><th scope=col>Avg Count</th><th scope=col>Min Count</th><th scope=col>⋯</th><th scope=col>P22_Pre</th><th scope=col>P23_Pre</th><th scope=col>P24_Pre</th><th scope=col>P25_Pre</th><th scope=col>P26_Pre</th><th scope=col>P27_Pre</th><th scope=col>P28_Pre</th><th scope=col>P29_Pre</th><th scope=col>P30_Pre</th><th scope=col>P31_Pre</th></tr>\n",
       "\t<tr><th></th><th scope=col>&lt;chr&gt;</th><th scope=col>&lt;lgl&gt;</th><th scope=col>&lt;chr&gt;</th><th scope=col>&lt;lgl&gt;</th><th scope=col>&lt;chr&gt;</th><th scope=col>&lt;chr&gt;</th><th scope=col>&lt;dbl&gt;</th><th scope=col>&lt;lgl&gt;</th><th scope=col>&lt;dbl&gt;</th><th scope=col>&lt;int&gt;</th><th scope=col>⋯</th><th scope=col>&lt;int&gt;</th><th scope=col>&lt;int&gt;</th><th scope=col>&lt;int&gt;</th><th scope=col>&lt;int&gt;</th><th scope=col>&lt;int&gt;</th><th scope=col>&lt;int&gt;</th><th scope=col>&lt;int&gt;</th><th scope=col>&lt;int&gt;</th><th scope=col>&lt;int&gt;</th><th scope=col>&lt;int&gt;</th></tr>\n",
       "</thead>\n",
       "<tbody>\n",
       "\t<tr><th scope=row>1</th><td>A2M   </td><td>NA</td><td>NM_000014.4</td><td>NA</td><td>Endogenous</td><td>mRNA</td><td>100.0</td><td>FALSE</td><td>1444.65</td><td>109</td><td>⋯</td><td>1146</td><td>1974</td><td>205</td><td>1485</td><td>899</td><td>784</td><td>898</td><td>620</td><td>1096</td><td>2143</td></tr>\n",
       "\t<tr><th scope=row>2</th><td>ACVR1C</td><td>NA</td><td>NM_145259.2</td><td>NA</td><td>Endogenous</td><td>mRNA</td><td> 87.1</td><td>FALSE</td><td>  30.85</td><td>  8</td><td>⋯</td><td>  14</td><td> 110</td><td> 17</td><td>   9</td><td> 29</td><td>  8</td><td> 24</td><td> 34</td><td>  32</td><td>  23</td></tr>\n",
       "</tbody>\n",
       "</table>\n"
      ],
      "text/latex": [
       "A data.frame: 2 × 73\n",
       "\\begin{tabular}{r|lllllllllllllllllllll}\n",
       "  & Probe Name & Annotation & Accession \\# & NS Probe ID & Class Name & Analyte Type & \\% Samples above Threshold & Positive Flag & Avg Count & Min Count & ⋯ & P22\\_Pre & P23\\_Pre & P24\\_Pre & P25\\_Pre & P26\\_Pre & P27\\_Pre & P28\\_Pre & P29\\_Pre & P30\\_Pre & P31\\_Pre\\\\\n",
       "  & <chr> & <lgl> & <chr> & <lgl> & <chr> & <chr> & <dbl> & <lgl> & <dbl> & <int> & ⋯ & <int> & <int> & <int> & <int> & <int> & <int> & <int> & <int> & <int> & <int>\\\\\n",
       "\\hline\n",
       "\t1 & A2M    & NA & NM\\_000014.4 & NA & Endogenous & mRNA & 100.0 & FALSE & 1444.65 & 109 & ⋯ & 1146 & 1974 & 205 & 1485 & 899 & 784 & 898 & 620 & 1096 & 2143\\\\\n",
       "\t2 & ACVR1C & NA & NM\\_145259.2 & NA & Endogenous & mRNA &  87.1 & FALSE &   30.85 &   8 & ⋯ &   14 &  110 &  17 &    9 &  29 &   8 &  24 &  34 &   32 &   23\\\\\n",
       "\\end{tabular}\n"
      ],
      "text/markdown": [
       "\n",
       "A data.frame: 2 × 73\n",
       "\n",
       "| <!--/--> | Probe Name &lt;chr&gt; | Annotation &lt;lgl&gt; | Accession # &lt;chr&gt; | NS Probe ID &lt;lgl&gt; | Class Name &lt;chr&gt; | Analyte Type &lt;chr&gt; | % Samples above Threshold &lt;dbl&gt; | Positive Flag &lt;lgl&gt; | Avg Count &lt;dbl&gt; | Min Count &lt;int&gt; | ⋯ ⋯ | P22_Pre &lt;int&gt; | P23_Pre &lt;int&gt; | P24_Pre &lt;int&gt; | P25_Pre &lt;int&gt; | P26_Pre &lt;int&gt; | P27_Pre &lt;int&gt; | P28_Pre &lt;int&gt; | P29_Pre &lt;int&gt; | P30_Pre &lt;int&gt; | P31_Pre &lt;int&gt; |\n",
       "|---|---|---|---|---|---|---|---|---|---|---|---|---|---|---|---|---|---|---|---|---|---|\n",
       "| 1 | A2M    | NA | NM_000014.4 | NA | Endogenous | mRNA | 100.0 | FALSE | 1444.65 | 109 | ⋯ | 1146 | 1974 | 205 | 1485 | 899 | 784 | 898 | 620 | 1096 | 2143 |\n",
       "| 2 | ACVR1C | NA | NM_145259.2 | NA | Endogenous | mRNA |  87.1 | FALSE |   30.85 |   8 | ⋯ |   14 |  110 |  17 |    9 |  29 |   8 |  24 |  34 |   32 |   23 |\n",
       "\n"
      ],
      "text/plain": [
       "  Probe Name Annotation Accession # NS Probe ID Class Name Analyte Type\n",
       "1 A2M        NA         NM_000014.4 NA          Endogenous mRNA        \n",
       "2 ACVR1C     NA         NM_145259.2 NA          Endogenous mRNA        \n",
       "  % Samples above Threshold Positive Flag Avg Count Min Count ⋯ P22_Pre P23_Pre\n",
       "1 100.0                     FALSE         1444.65   109       ⋯ 1146    1974   \n",
       "2  87.1                     FALSE           30.85     8       ⋯   14     110   \n",
       "  P24_Pre P25_Pre P26_Pre P27_Pre P28_Pre P29_Pre P30_Pre P31_Pre\n",
       "1 205     1485    899     784     898     620     1096    2143   \n",
       "2  17        9     29       8      24      34       32      23   "
      ]
     },
     "metadata": {},
     "output_type": "display_data"
    },
    {
     "data": {
      "text/html": [
       "<table class=\"dataframe\">\n",
       "<caption>A data.frame: 2 × 74</caption>\n",
       "<thead>\n",
       "\t<tr><th></th><th scope=col>Probe Name</th><th scope=col>Annotation</th><th scope=col>Accession #</th><th scope=col>NS Probe ID</th><th scope=col>Class Name</th><th scope=col>Analyte Type</th><th scope=col>Target Sequence</th><th scope=col>% Samples above Threshold</th><th scope=col>Positive Flag</th><th scope=col>Avg Count</th><th scope=col>⋯</th><th scope=col>P22_Pre</th><th scope=col>P23_Pre</th><th scope=col>P24_Pre</th><th scope=col>P25_Pre</th><th scope=col>P26_Pre</th><th scope=col>P27_Pre</th><th scope=col>P28_Pre</th><th scope=col>P29_Pre</th><th scope=col>P30_Pre</th><th scope=col>P31_Pre</th></tr>\n",
       "\t<tr><th></th><th scope=col>&lt;chr&gt;</th><th scope=col>&lt;lgl&gt;</th><th scope=col>&lt;chr&gt;</th><th scope=col>&lt;lgl&gt;</th><th scope=col>&lt;chr&gt;</th><th scope=col>&lt;chr&gt;</th><th scope=col>&lt;lgl&gt;</th><th scope=col>&lt;dbl&gt;</th><th scope=col>&lt;lgl&gt;</th><th scope=col>&lt;dbl&gt;</th><th scope=col>⋯</th><th scope=col>&lt;dbl&gt;</th><th scope=col>&lt;dbl&gt;</th><th scope=col>&lt;dbl&gt;</th><th scope=col>&lt;dbl&gt;</th><th scope=col>&lt;dbl&gt;</th><th scope=col>&lt;dbl&gt;</th><th scope=col>&lt;dbl&gt;</th><th scope=col>&lt;dbl&gt;</th><th scope=col>&lt;dbl&gt;</th><th scope=col>&lt;dbl&gt;</th></tr>\n",
       "</thead>\n",
       "<tbody>\n",
       "\t<tr><th scope=row>1</th><td>A2M   </td><td>NA</td><td>NM_000014.4</td><td>NA</td><td>Endogenous</td><td>mRNA</td><td>NA</td><td>100.00</td><td>FALSE</td><td>1633.90</td><td>⋯</td><td>1165.26</td><td>1894.73</td><td>495.69</td><td>3298.90</td><td>974.21</td><td>1711.50</td><td>1015.26</td><td>804.44</td><td>2663.09</td><td>2511.01</td></tr>\n",
       "\t<tr><th scope=row>2</th><td>ACVR1C</td><td>NA</td><td>NM_145259.2</td><td>NA</td><td>Endogenous</td><td>mRNA</td><td>NA</td><td> 83.87</td><td>FALSE</td><td>  38.12</td><td>⋯</td><td>  14.24</td><td> 105.58</td><td> 41.11</td><td>  11.88</td><td> 31.43</td><td>  11.62</td><td>  27.13</td><td> 44.11</td><td>  77.75</td><td>  26.95</td></tr>\n",
       "</tbody>\n",
       "</table>\n"
      ],
      "text/latex": [
       "A data.frame: 2 × 74\n",
       "\\begin{tabular}{r|lllllllllllllllllllll}\n",
       "  & Probe Name & Annotation & Accession \\# & NS Probe ID & Class Name & Analyte Type & Target Sequence & \\% Samples above Threshold & Positive Flag & Avg Count & ⋯ & P22\\_Pre & P23\\_Pre & P24\\_Pre & P25\\_Pre & P26\\_Pre & P27\\_Pre & P28\\_Pre & P29\\_Pre & P30\\_Pre & P31\\_Pre\\\\\n",
       "  & <chr> & <lgl> & <chr> & <lgl> & <chr> & <chr> & <lgl> & <dbl> & <lgl> & <dbl> & ⋯ & <dbl> & <dbl> & <dbl> & <dbl> & <dbl> & <dbl> & <dbl> & <dbl> & <dbl> & <dbl>\\\\\n",
       "\\hline\n",
       "\t1 & A2M    & NA & NM\\_000014.4 & NA & Endogenous & mRNA & NA & 100.00 & FALSE & 1633.90 & ⋯ & 1165.26 & 1894.73 & 495.69 & 3298.90 & 974.21 & 1711.50 & 1015.26 & 804.44 & 2663.09 & 2511.01\\\\\n",
       "\t2 & ACVR1C & NA & NM\\_145259.2 & NA & Endogenous & mRNA & NA &  83.87 & FALSE &   38.12 & ⋯ &   14.24 &  105.58 &  41.11 &   11.88 &  31.43 &   11.62 &   27.13 &  44.11 &   77.75 &   26.95\\\\\n",
       "\\end{tabular}\n"
      ],
      "text/markdown": [
       "\n",
       "A data.frame: 2 × 74\n",
       "\n",
       "| <!--/--> | Probe Name &lt;chr&gt; | Annotation &lt;lgl&gt; | Accession # &lt;chr&gt; | NS Probe ID &lt;lgl&gt; | Class Name &lt;chr&gt; | Analyte Type &lt;chr&gt; | Target Sequence &lt;lgl&gt; | % Samples above Threshold &lt;dbl&gt; | Positive Flag &lt;lgl&gt; | Avg Count &lt;dbl&gt; | ⋯ ⋯ | P22_Pre &lt;dbl&gt; | P23_Pre &lt;dbl&gt; | P24_Pre &lt;dbl&gt; | P25_Pre &lt;dbl&gt; | P26_Pre &lt;dbl&gt; | P27_Pre &lt;dbl&gt; | P28_Pre &lt;dbl&gt; | P29_Pre &lt;dbl&gt; | P30_Pre &lt;dbl&gt; | P31_Pre &lt;dbl&gt; |\n",
       "|---|---|---|---|---|---|---|---|---|---|---|---|---|---|---|---|---|---|---|---|---|---|\n",
       "| 1 | A2M    | NA | NM_000014.4 | NA | Endogenous | mRNA | NA | 100.00 | FALSE | 1633.90 | ⋯ | 1165.26 | 1894.73 | 495.69 | 3298.90 | 974.21 | 1711.50 | 1015.26 | 804.44 | 2663.09 | 2511.01 |\n",
       "| 2 | ACVR1C | NA | NM_145259.2 | NA | Endogenous | mRNA | NA |  83.87 | FALSE |   38.12 | ⋯ |   14.24 |  105.58 |  41.11 |   11.88 |  31.43 |   11.62 |   27.13 |  44.11 |   77.75 |   26.95 |\n",
       "\n"
      ],
      "text/plain": [
       "  Probe Name Annotation Accession # NS Probe ID Class Name Analyte Type\n",
       "1 A2M        NA         NM_000014.4 NA          Endogenous mRNA        \n",
       "2 ACVR1C     NA         NM_145259.2 NA          Endogenous mRNA        \n",
       "  Target Sequence % Samples above Threshold Positive Flag Avg Count ⋯ P22_Pre\n",
       "1 NA              100.00                    FALSE         1633.90   ⋯ 1165.26\n",
       "2 NA               83.87                    FALSE           38.12   ⋯   14.24\n",
       "  P23_Pre P24_Pre P25_Pre P26_Pre P27_Pre P28_Pre P29_Pre P30_Pre P31_Pre\n",
       "1 1894.73 495.69  3298.90 974.21  1711.50 1015.26 804.44  2663.09 2511.01\n",
       "2  105.58  41.11    11.88  31.43    11.62   27.13  44.11    77.75   26.95"
      ]
     },
     "metadata": {},
     "output_type": "display_data"
    },
    {
     "data": {
      "text/html": [
       "<style>\n",
       ".list-inline {list-style: none; margin:0; padding: 0}\n",
       ".list-inline>li {display: inline-block}\n",
       ".list-inline>li:not(:last-child)::after {content: \"\\00b7\"; padding: 0 .5ex}\n",
       "</style>\n",
       "<ol class=list-inline><li>784</li><li>73</li></ol>\n"
      ],
      "text/latex": [
       "\\begin{enumerate*}\n",
       "\\item 784\n",
       "\\item 73\n",
       "\\end{enumerate*}\n"
      ],
      "text/markdown": [
       "1. 784\n",
       "2. 73\n",
       "\n",
       "\n"
      ],
      "text/plain": [
       "[1] 784  73"
      ]
     },
     "metadata": {},
     "output_type": "display_data"
    },
    {
     "data": {
      "text/html": [
       "<style>\n",
       ".list-inline {list-style: none; margin:0; padding: 0}\n",
       ".list-inline>li {display: inline-block}\n",
       ".list-inline>li:not(:last-child)::after {content: \"\\00b7\"; padding: 0 .5ex}\n",
       "</style>\n",
       "<ol class=list-inline><li>784</li><li>74</li></ol>\n"
      ],
      "text/latex": [
       "\\begin{enumerate*}\n",
       "\\item 784\n",
       "\\item 74\n",
       "\\end{enumerate*}\n"
      ],
      "text/markdown": [
       "1. 784\n",
       "2. 74\n",
       "\n",
       "\n"
      ],
      "text/plain": [
       "[1] 784  74"
      ]
     },
     "metadata": {},
     "output_type": "display_data"
    },
    {
     "data": {
      "text/plain": [
       "\n",
       "  Endogenous Housekeeping     Negative     Positive \n",
       "         750           20            8            6 "
      ]
     },
     "metadata": {},
     "output_type": "display_data"
    }
   ],
   "source": [
    "# raw RNA-seq\n",
    "rna_raw <- as.data.frame(fread(\"../RNASeq//Adzib//counts//Adzibolosu_str_gtf_genes_fixednames_09.11.24.txt\"))\n",
    "rna_raw[1:2,]\n",
    "# raw & normalized Nanostring counts\n",
    "nano_raw <- as.data.frame(fread(\"../Nanostring/James_GSE201600/data//counts/nsolver_raw_counts_11.5.24_clean.txt\"))\n",
    "nano_raw[1:2,]\n",
    "nano_norm <- as.data.frame(fread(\"../Nanostring/James_GSE201600/data//counts/nsolver_norm_counts_11.5.24_clean.txt\"))\n",
    "nano_norm[1:2,]\n",
    "dim(nano_raw)\n",
    "dim(nano_norm)\n",
    "table(nano_raw[[\"Class Name\"]])\n",
    "# remove the positive & negative genes since only used for normalization\n",
    "nano_norm <- nano_norm[nano_norm[[\"Class Name\"]] %in% c(\"Endogenous\", \"Housekeeping\"),]\n",
    "nano_raw <- nano_raw[nano_raw[[\"Class Name\"]] %in% c(\"Endogenous\", \"Housekeeping\"),]\n",
    "# get the housekeeping genes used in nanostring\n",
    "nano_hk_genes = nano_raw[nano_raw[[\"Class Name\"]] == \"Housekeeping\",][[\"Probe Name\"]]"
   ]
  },
  {
   "cell_type": "code",
   "execution_count": 43,
   "id": "586752fb-cdc0-4c01-a939-1e0ae715de59",
   "metadata": {},
   "outputs": [
    {
     "data": {
      "text/html": [
       "<table class=\"dataframe\">\n",
       "<caption>A data.frame: 2 × 63</caption>\n",
       "<thead>\n",
       "\t<tr><th></th><th scope=col>Probe Name</th><th scope=col>P1_Pre</th><th scope=col>P10_Pre</th><th scope=col>P11_Pre</th><th scope=col>P12_Pre</th><th scope=col>P13_Pre</th><th scope=col>P14_Pre</th><th scope=col>P15_Pre</th><th scope=col>P16_Pre</th><th scope=col>P17_Pre</th><th scope=col>⋯</th><th scope=col>P29_Post</th><th scope=col>P3_Post</th><th scope=col>P30_Post</th><th scope=col>P31_Post</th><th scope=col>P4_Post</th><th scope=col>P5_Post</th><th scope=col>P6_Post</th><th scope=col>P7_Post</th><th scope=col>P8_Post</th><th scope=col>P9_Post</th></tr>\n",
       "\t<tr><th></th><th scope=col>&lt;chr&gt;</th><th scope=col>&lt;int&gt;</th><th scope=col>&lt;int&gt;</th><th scope=col>&lt;int&gt;</th><th scope=col>&lt;int&gt;</th><th scope=col>&lt;int&gt;</th><th scope=col>&lt;int&gt;</th><th scope=col>&lt;int&gt;</th><th scope=col>&lt;int&gt;</th><th scope=col>&lt;int&gt;</th><th scope=col>⋯</th><th scope=col>&lt;int&gt;</th><th scope=col>&lt;int&gt;</th><th scope=col>&lt;int&gt;</th><th scope=col>&lt;int&gt;</th><th scope=col>&lt;int&gt;</th><th scope=col>&lt;int&gt;</th><th scope=col>&lt;int&gt;</th><th scope=col>&lt;int&gt;</th><th scope=col>&lt;int&gt;</th><th scope=col>&lt;int&gt;</th></tr>\n",
       "</thead>\n",
       "<tbody>\n",
       "\t<tr><th scope=row>1</th><td>A2M   </td><td>1508</td><td>1624</td><td>1466</td><td>1311</td><td>601</td><td>603</td><td>109</td><td>466</td><td>298</td><td>⋯</td><td>773</td><td>2722</td><td>1457</td><td>2739</td><td>1859</td><td>1635</td><td>1656</td><td>5830</td><td>1114</td><td>3844</td></tr>\n",
       "\t<tr><th scope=row>2</th><td>ACVR1C</td><td>  18</td><td>  96</td><td>  46</td><td>  19</td><td> 15</td><td> 15</td><td>  8</td><td> 16</td><td> 23</td><td>⋯</td><td> 47</td><td>  20</td><td>  66</td><td>  28</td><td>  24</td><td>  17</td><td>  16</td><td>  14</td><td>  23</td><td>  39</td></tr>\n",
       "</tbody>\n",
       "</table>\n"
      ],
      "text/latex": [
       "A data.frame: 2 × 63\n",
       "\\begin{tabular}{r|lllllllllllllllllllll}\n",
       "  & Probe Name & P1\\_Pre & P10\\_Pre & P11\\_Pre & P12\\_Pre & P13\\_Pre & P14\\_Pre & P15\\_Pre & P16\\_Pre & P17\\_Pre & ⋯ & P29\\_Post & P3\\_Post & P30\\_Post & P31\\_Post & P4\\_Post & P5\\_Post & P6\\_Post & P7\\_Post & P8\\_Post & P9\\_Post\\\\\n",
       "  & <chr> & <int> & <int> & <int> & <int> & <int> & <int> & <int> & <int> & <int> & ⋯ & <int> & <int> & <int> & <int> & <int> & <int> & <int> & <int> & <int> & <int>\\\\\n",
       "\\hline\n",
       "\t1 & A2M    & 1508 & 1624 & 1466 & 1311 & 601 & 603 & 109 & 466 & 298 & ⋯ & 773 & 2722 & 1457 & 2739 & 1859 & 1635 & 1656 & 5830 & 1114 & 3844\\\\\n",
       "\t2 & ACVR1C &   18 &   96 &   46 &   19 &  15 &  15 &   8 &  16 &  23 & ⋯ &  47 &   20 &   66 &   28 &   24 &   17 &   16 &   14 &   23 &   39\\\\\n",
       "\\end{tabular}\n"
      ],
      "text/markdown": [
       "\n",
       "A data.frame: 2 × 63\n",
       "\n",
       "| <!--/--> | Probe Name &lt;chr&gt; | P1_Pre &lt;int&gt; | P10_Pre &lt;int&gt; | P11_Pre &lt;int&gt; | P12_Pre &lt;int&gt; | P13_Pre &lt;int&gt; | P14_Pre &lt;int&gt; | P15_Pre &lt;int&gt; | P16_Pre &lt;int&gt; | P17_Pre &lt;int&gt; | ⋯ ⋯ | P29_Post &lt;int&gt; | P3_Post &lt;int&gt; | P30_Post &lt;int&gt; | P31_Post &lt;int&gt; | P4_Post &lt;int&gt; | P5_Post &lt;int&gt; | P6_Post &lt;int&gt; | P7_Post &lt;int&gt; | P8_Post &lt;int&gt; | P9_Post &lt;int&gt; |\n",
       "|---|---|---|---|---|---|---|---|---|---|---|---|---|---|---|---|---|---|---|---|---|---|\n",
       "| 1 | A2M    | 1508 | 1624 | 1466 | 1311 | 601 | 603 | 109 | 466 | 298 | ⋯ | 773 | 2722 | 1457 | 2739 | 1859 | 1635 | 1656 | 5830 | 1114 | 3844 |\n",
       "| 2 | ACVR1C |   18 |   96 |   46 |   19 |  15 |  15 |   8 |  16 |  23 | ⋯ |  47 |   20 |   66 |   28 |   24 |   17 |   16 |   14 |   23 |   39 |\n",
       "\n"
      ],
      "text/plain": [
       "  Probe Name P1_Pre P10_Pre P11_Pre P12_Pre P13_Pre P14_Pre P15_Pre P16_Pre\n",
       "1 A2M        1508   1624    1466    1311    601     603     109     466    \n",
       "2 ACVR1C       18     96      46      19     15      15       8      16    \n",
       "  P17_Pre ⋯ P29_Post P3_Post P30_Post P31_Post P4_Post P5_Post P6_Post P7_Post\n",
       "1 298     ⋯ 773      2722    1457     2739     1859    1635    1656    5830   \n",
       "2  23     ⋯  47        20      66       28       24      17      16      14   \n",
       "  P8_Post P9_Post\n",
       "1 1114    3844   \n",
       "2   23      39   "
      ]
     },
     "metadata": {},
     "output_type": "display_data"
    },
    {
     "data": {
      "text/html": [
       "<table class=\"dataframe\">\n",
       "<caption>A data.frame: 2 × 63</caption>\n",
       "<thead>\n",
       "\t<tr><th></th><th scope=col>Probe Name</th><th scope=col>P1_Pre</th><th scope=col>P10_Pre</th><th scope=col>P11_Pre</th><th scope=col>P12_Pre</th><th scope=col>P13_Pre</th><th scope=col>P14_Pre</th><th scope=col>P15_Pre</th><th scope=col>P16_Pre</th><th scope=col>P17_Pre</th><th scope=col>⋯</th><th scope=col>P29_Post</th><th scope=col>P3_Post</th><th scope=col>P30_Post</th><th scope=col>P31_Post</th><th scope=col>P4_Post</th><th scope=col>P5_Post</th><th scope=col>P6_Post</th><th scope=col>P7_Post</th><th scope=col>P8_Post</th><th scope=col>P9_Post</th></tr>\n",
       "\t<tr><th></th><th scope=col>&lt;chr&gt;</th><th scope=col>&lt;dbl&gt;</th><th scope=col>&lt;dbl&gt;</th><th scope=col>&lt;dbl&gt;</th><th scope=col>&lt;dbl&gt;</th><th scope=col>&lt;dbl&gt;</th><th scope=col>&lt;dbl&gt;</th><th scope=col>&lt;dbl&gt;</th><th scope=col>&lt;dbl&gt;</th><th scope=col>&lt;dbl&gt;</th><th scope=col>⋯</th><th scope=col>&lt;dbl&gt;</th><th scope=col>&lt;dbl&gt;</th><th scope=col>&lt;dbl&gt;</th><th scope=col>&lt;dbl&gt;</th><th scope=col>&lt;dbl&gt;</th><th scope=col>&lt;dbl&gt;</th><th scope=col>&lt;dbl&gt;</th><th scope=col>&lt;dbl&gt;</th><th scope=col>&lt;dbl&gt;</th><th scope=col>&lt;dbl&gt;</th></tr>\n",
       "</thead>\n",
       "<tbody>\n",
       "\t<tr><th scope=row>1</th><td>A2M   </td><td>1374.82</td><td>1189.11</td><td>605.51</td><td>505.45</td><td>660.38</td><td>799.53</td><td>324.73</td><td>707.98</td><td>460.02</td><td>⋯</td><td>795.17</td><td>3358.40</td><td>2514.29</td><td>3519.87</td><td>1968.26</td><td>1217.53</td><td>1381.24</td><td>3714.03</td><td>953.01</td><td>2318.18</td></tr>\n",
       "\t<tr><th scope=row>2</th><td>ACVR1C</td><td>  16.41</td><td>  70.29</td><td> 19.00</td><td>  9.12</td><td> 16.48</td><td> 19.89</td><td> 10.38</td><td> 24.31</td><td> 35.50</td><td>⋯</td><td> 48.35</td><td>  24.68</td><td> 113.89</td><td>  35.98</td><td>  25.41</td><td>  12.66</td><td>  13.35</td><td>  10.75</td><td> 19.68</td><td>  23.52</td></tr>\n",
       "</tbody>\n",
       "</table>\n"
      ],
      "text/latex": [
       "A data.frame: 2 × 63\n",
       "\\begin{tabular}{r|lllllllllllllllllllll}\n",
       "  & Probe Name & P1\\_Pre & P10\\_Pre & P11\\_Pre & P12\\_Pre & P13\\_Pre & P14\\_Pre & P15\\_Pre & P16\\_Pre & P17\\_Pre & ⋯ & P29\\_Post & P3\\_Post & P30\\_Post & P31\\_Post & P4\\_Post & P5\\_Post & P6\\_Post & P7\\_Post & P8\\_Post & P9\\_Post\\\\\n",
       "  & <chr> & <dbl> & <dbl> & <dbl> & <dbl> & <dbl> & <dbl> & <dbl> & <dbl> & <dbl> & ⋯ & <dbl> & <dbl> & <dbl> & <dbl> & <dbl> & <dbl> & <dbl> & <dbl> & <dbl> & <dbl>\\\\\n",
       "\\hline\n",
       "\t1 & A2M    & 1374.82 & 1189.11 & 605.51 & 505.45 & 660.38 & 799.53 & 324.73 & 707.98 & 460.02 & ⋯ & 795.17 & 3358.40 & 2514.29 & 3519.87 & 1968.26 & 1217.53 & 1381.24 & 3714.03 & 953.01 & 2318.18\\\\\n",
       "\t2 & ACVR1C &   16.41 &   70.29 &  19.00 &   9.12 &  16.48 &  19.89 &  10.38 &  24.31 &  35.50 & ⋯ &  48.35 &   24.68 &  113.89 &   35.98 &   25.41 &   12.66 &   13.35 &   10.75 &  19.68 &   23.52\\\\\n",
       "\\end{tabular}\n"
      ],
      "text/markdown": [
       "\n",
       "A data.frame: 2 × 63\n",
       "\n",
       "| <!--/--> | Probe Name &lt;chr&gt; | P1_Pre &lt;dbl&gt; | P10_Pre &lt;dbl&gt; | P11_Pre &lt;dbl&gt; | P12_Pre &lt;dbl&gt; | P13_Pre &lt;dbl&gt; | P14_Pre &lt;dbl&gt; | P15_Pre &lt;dbl&gt; | P16_Pre &lt;dbl&gt; | P17_Pre &lt;dbl&gt; | ⋯ ⋯ | P29_Post &lt;dbl&gt; | P3_Post &lt;dbl&gt; | P30_Post &lt;dbl&gt; | P31_Post &lt;dbl&gt; | P4_Post &lt;dbl&gt; | P5_Post &lt;dbl&gt; | P6_Post &lt;dbl&gt; | P7_Post &lt;dbl&gt; | P8_Post &lt;dbl&gt; | P9_Post &lt;dbl&gt; |\n",
       "|---|---|---|---|---|---|---|---|---|---|---|---|---|---|---|---|---|---|---|---|---|---|\n",
       "| 1 | A2M    | 1374.82 | 1189.11 | 605.51 | 505.45 | 660.38 | 799.53 | 324.73 | 707.98 | 460.02 | ⋯ | 795.17 | 3358.40 | 2514.29 | 3519.87 | 1968.26 | 1217.53 | 1381.24 | 3714.03 | 953.01 | 2318.18 |\n",
       "| 2 | ACVR1C |   16.41 |   70.29 |  19.00 |   9.12 |  16.48 |  19.89 |  10.38 |  24.31 |  35.50 | ⋯ |  48.35 |   24.68 |  113.89 |   35.98 |   25.41 |   12.66 |   13.35 |   10.75 |  19.68 |   23.52 |\n",
       "\n"
      ],
      "text/plain": [
       "  Probe Name P1_Pre  P10_Pre P11_Pre P12_Pre P13_Pre P14_Pre P15_Pre P16_Pre\n",
       "1 A2M        1374.82 1189.11 605.51  505.45  660.38  799.53  324.73  707.98 \n",
       "2 ACVR1C       16.41   70.29  19.00    9.12   16.48   19.89   10.38   24.31 \n",
       "  P17_Pre ⋯ P29_Post P3_Post P30_Post P31_Post P4_Post P5_Post P6_Post P7_Post\n",
       "1 460.02  ⋯ 795.17   3358.40 2514.29  3519.87  1968.26 1217.53 1381.24 3714.03\n",
       "2  35.50  ⋯  48.35     24.68  113.89    35.98    25.41   12.66   13.35   10.75\n",
       "  P8_Post P9_Post\n",
       "1 953.01  2318.18\n",
       "2  19.68    23.52"
      ]
     },
     "metadata": {},
     "output_type": "display_data"
    },
    {
     "data": {
      "text/html": [
       "<table class=\"dataframe\">\n",
       "<caption>A data.frame: 2 × 49</caption>\n",
       "<thead>\n",
       "\t<tr><th></th><th scope=col>Geneid</th><th scope=col>USF1_Pre</th><th scope=col>USF10_Pre</th><th scope=col>USF14_Pre</th><th scope=col>USF15_Pre</th><th scope=col>USF16_Pre</th><th scope=col>USF17_Pre</th><th scope=col>USF18_Pre</th><th scope=col>USF3_Pre</th><th scope=col>USF31_Pre</th><th scope=col>⋯</th><th scope=col>USF39_Post</th><th scope=col>USF7_Post</th><th scope=col>WSU_E_Post</th><th scope=col>WSU_F_Post</th><th scope=col>WSU11_Post</th><th scope=col>WSU12_Post</th><th scope=col>WSU14_Post</th><th scope=col>WSU2_Post</th><th scope=col>WSU6_Post</th><th scope=col>WSU9_Post</th></tr>\n",
       "\t<tr><th></th><th scope=col>&lt;chr&gt;</th><th scope=col>&lt;int&gt;</th><th scope=col>&lt;int&gt;</th><th scope=col>&lt;int&gt;</th><th scope=col>&lt;int&gt;</th><th scope=col>&lt;int&gt;</th><th scope=col>&lt;int&gt;</th><th scope=col>&lt;int&gt;</th><th scope=col>&lt;int&gt;</th><th scope=col>&lt;int&gt;</th><th scope=col>⋯</th><th scope=col>&lt;int&gt;</th><th scope=col>&lt;int&gt;</th><th scope=col>&lt;int&gt;</th><th scope=col>&lt;int&gt;</th><th scope=col>&lt;int&gt;</th><th scope=col>&lt;int&gt;</th><th scope=col>&lt;int&gt;</th><th scope=col>&lt;int&gt;</th><th scope=col>&lt;int&gt;</th><th scope=col>&lt;int&gt;</th></tr>\n",
       "</thead>\n",
       "<tbody>\n",
       "\t<tr><th scope=row>1</th><td>DDX11L1</td><td> 0</td><td> 0</td><td> 0</td><td> 0</td><td>  0</td><td> 0</td><td> 0</td><td> 0</td><td> 0</td><td>⋯</td><td> 0</td><td> 1</td><td> 0</td><td> 0</td><td>  0</td><td> 0</td><td> 0</td><td>  0</td><td> 2</td><td> 0</td></tr>\n",
       "\t<tr><th scope=row>2</th><td>WASH7P </td><td>58</td><td>53</td><td>56</td><td>52</td><td>101</td><td>39</td><td>54</td><td>62</td><td>46</td><td>⋯</td><td>13</td><td>62</td><td>52</td><td>38</td><td>109</td><td>72</td><td>65</td><td>109</td><td>66</td><td>90</td></tr>\n",
       "</tbody>\n",
       "</table>\n"
      ],
      "text/latex": [
       "A data.frame: 2 × 49\n",
       "\\begin{tabular}{r|lllllllllllllllllllll}\n",
       "  & Geneid & USF1\\_Pre & USF10\\_Pre & USF14\\_Pre & USF15\\_Pre & USF16\\_Pre & USF17\\_Pre & USF18\\_Pre & USF3\\_Pre & USF31\\_Pre & ⋯ & USF39\\_Post & USF7\\_Post & WSU\\_E\\_Post & WSU\\_F\\_Post & WSU11\\_Post & WSU12\\_Post & WSU14\\_Post & WSU2\\_Post & WSU6\\_Post & WSU9\\_Post\\\\\n",
       "  & <chr> & <int> & <int> & <int> & <int> & <int> & <int> & <int> & <int> & <int> & ⋯ & <int> & <int> & <int> & <int> & <int> & <int> & <int> & <int> & <int> & <int>\\\\\n",
       "\\hline\n",
       "\t1 & DDX11L1 &  0 &  0 &  0 &  0 &   0 &  0 &  0 &  0 &  0 & ⋯ &  0 &  1 &  0 &  0 &   0 &  0 &  0 &   0 &  2 &  0\\\\\n",
       "\t2 & WASH7P  & 58 & 53 & 56 & 52 & 101 & 39 & 54 & 62 & 46 & ⋯ & 13 & 62 & 52 & 38 & 109 & 72 & 65 & 109 & 66 & 90\\\\\n",
       "\\end{tabular}\n"
      ],
      "text/markdown": [
       "\n",
       "A data.frame: 2 × 49\n",
       "\n",
       "| <!--/--> | Geneid &lt;chr&gt; | USF1_Pre &lt;int&gt; | USF10_Pre &lt;int&gt; | USF14_Pre &lt;int&gt; | USF15_Pre &lt;int&gt; | USF16_Pre &lt;int&gt; | USF17_Pre &lt;int&gt; | USF18_Pre &lt;int&gt; | USF3_Pre &lt;int&gt; | USF31_Pre &lt;int&gt; | ⋯ ⋯ | USF39_Post &lt;int&gt; | USF7_Post &lt;int&gt; | WSU_E_Post &lt;int&gt; | WSU_F_Post &lt;int&gt; | WSU11_Post &lt;int&gt; | WSU12_Post &lt;int&gt; | WSU14_Post &lt;int&gt; | WSU2_Post &lt;int&gt; | WSU6_Post &lt;int&gt; | WSU9_Post &lt;int&gt; |\n",
       "|---|---|---|---|---|---|---|---|---|---|---|---|---|---|---|---|---|---|---|---|---|---|\n",
       "| 1 | DDX11L1 |  0 |  0 |  0 |  0 |   0 |  0 |  0 |  0 |  0 | ⋯ |  0 |  1 |  0 |  0 |   0 |  0 |  0 |   0 |  2 |  0 |\n",
       "| 2 | WASH7P  | 58 | 53 | 56 | 52 | 101 | 39 | 54 | 62 | 46 | ⋯ | 13 | 62 | 52 | 38 | 109 | 72 | 65 | 109 | 66 | 90 |\n",
       "\n"
      ],
      "text/plain": [
       "  Geneid  USF1_Pre USF10_Pre USF14_Pre USF15_Pre USF16_Pre USF17_Pre USF18_Pre\n",
       "1 DDX11L1  0        0         0         0          0        0         0       \n",
       "2 WASH7P  58       53        56        52        101       39        54       \n",
       "  USF3_Pre USF31_Pre ⋯ USF39_Post USF7_Post WSU_E_Post WSU_F_Post WSU11_Post\n",
       "1  0        0        ⋯  0          1         0          0           0       \n",
       "2 62       46        ⋯ 13         62        52         38         109       \n",
       "  WSU12_Post WSU14_Post WSU2_Post WSU6_Post WSU9_Post\n",
       "1  0          0           0        2         0       \n",
       "2 72         65         109       66        90       "
      ]
     },
     "metadata": {},
     "output_type": "display_data"
    }
   ],
   "source": [
    "\n",
    "nano_raw <- nano_raw[,c(\"Probe Name\", sort(colnames(nano_raw)[grep(\"_Pre\", colnames(nano_raw))]), \n",
    "  sort(colnames(nano_raw)[grep(\"_Post\", colnames(nano_raw))]))]\n",
    "nano_norm <- nano_norm[,c(\"Probe Name\", sort(colnames(nano_norm)[grep(\"_Pre\", colnames(nano_norm))]), \n",
    "  sort(colnames(nano_norm)[grep(\"_Post\", colnames(nano_norm))]))]\n",
    "rna_raw <- rna_raw[, c(\"Geneid\", sort(colnames(rna_raw)[grep(\"_Pre\", colnames(rna_raw))]), \n",
    "  sort(colnames(rna_raw)[grep(\"_Post\", colnames(rna_raw))]))]\n",
    "nano_raw[1:2,]\n",
    "nano_norm[1:2,]\n",
    "rna_raw[1:2,]\n",
    "\n",
    "# reorde"
   ]
  },
  {
   "cell_type": "code",
   "execution_count": 44,
   "id": "e5e9425a-0911-42ef-a771-ded9f26de258",
   "metadata": {},
   "outputs": [],
   "source": [
    "# get unified column names\n",
    "colnames(nano_raw) <- c(\"Geneid\", paste0(\"Pat\", seq(1, 31), \"_Pre\"), paste0(\"Pat\", seq(1, 31), \"_Post\"))\n",
    "colnames(nano_norm) <- c(\"Geneid\", paste0(\"Pat\", seq(1, 31), \"_Pre\"), paste0(\"Pat\", seq(1, 31), \"_Post\"))\n",
    "colnames(rna_raw) <- c(\"Geneid\", paste0(\"Pat\", seq(1, 24), \"_Pre\"), paste0(\"Pat\", seq(1, 24), \"_Post\"))"
   ]
  },
  {
   "cell_type": "code",
   "execution_count": 45,
   "id": "d775c296-bcf7-455a-8e2b-bd6983e4de58",
   "metadata": {},
   "outputs": [],
   "source": [
    "# only keep shared number of patients (24)\n",
    "nano_raw <- nano_raw[, c(\"Geneid\", paste0(\"Pat\", seq(1, 24), \"_Pre\"), paste0(\"Pat\", seq(1, 24), \"_Post\"))]\n",
    "nano_norm <- nano_norm[, c(\"Geneid\", paste0(\"Pat\", seq(1, 24), \"_Pre\"), paste0(\"Pat\", seq(1, 24), \"_Post\"))]"
   ]
  },
  {
   "cell_type": "markdown",
   "id": "d49a4e76-e96b-4a5a-a228-2899542b6dd9",
   "metadata": {},
   "source": [
    "## 2. Get unified gene names\n",
    "Genes have different names/aliases. The Nanostring has some calls linking to multiple genes (e.g. CCL3/L1) or uses names that aren't fitting with that in the RNA-seq Refseq annotations.\n",
    "Therefore, I looked at the individual probes and hand annotated them to a respective gene."
   ]
  },
  {
   "cell_type": "code",
   "execution_count": 46,
   "id": "e472f6c3-ffca-4e89-8ac5-11c5d26740e1",
   "metadata": {},
   "outputs": [
    {
     "data": {
      "text/html": [
       "<style>\n",
       ".list-inline {list-style: none; margin:0; padding: 0}\n",
       ".list-inline>li {display: inline-block}\n",
       ".list-inline>li:not(:last-child)::after {content: \"\\00b7\"; padding: 0 .5ex}\n",
       "</style>\n",
       "<ol class=list-inline><li>'CCL3/L1'</li><li>'CD45RA'</li><li>'CD45RB'</li><li>'CD45RO'</li><li>'CLECL1'</li><li>'CXorf36'</li><li>'FCGR3A/B'</li><li>'H2AFX'</li><li>'MAGEA3/A6'</li><li>'MB21D1'</li><li>'TMEM173'</li><li>'TPSAB1/B2'</li><li>'TTC30A'</li><li>'XCL1/2'</li></ol>\n"
      ],
      "text/latex": [
       "\\begin{enumerate*}\n",
       "\\item 'CCL3/L1'\n",
       "\\item 'CD45RA'\n",
       "\\item 'CD45RB'\n",
       "\\item 'CD45RO'\n",
       "\\item 'CLECL1'\n",
       "\\item 'CXorf36'\n",
       "\\item 'FCGR3A/B'\n",
       "\\item 'H2AFX'\n",
       "\\item 'MAGEA3/A6'\n",
       "\\item 'MB21D1'\n",
       "\\item 'TMEM173'\n",
       "\\item 'TPSAB1/B2'\n",
       "\\item 'TTC30A'\n",
       "\\item 'XCL1/2'\n",
       "\\end{enumerate*}\n"
      ],
      "text/markdown": [
       "1. 'CCL3/L1'\n",
       "2. 'CD45RA'\n",
       "3. 'CD45RB'\n",
       "4. 'CD45RO'\n",
       "5. 'CLECL1'\n",
       "6. 'CXorf36'\n",
       "7. 'FCGR3A/B'\n",
       "8. 'H2AFX'\n",
       "9. 'MAGEA3/A6'\n",
       "10. 'MB21D1'\n",
       "11. 'TMEM173'\n",
       "12. 'TPSAB1/B2'\n",
       "13. 'TTC30A'\n",
       "14. 'XCL1/2'\n",
       "\n",
       "\n"
      ],
      "text/plain": [
       " [1] \"CCL3/L1\"   \"CD45RA\"    \"CD45RB\"    \"CD45RO\"    \"CLECL1\"    \"CXorf36\"  \n",
       " [7] \"FCGR3A/B\"  \"H2AFX\"     \"MAGEA3/A6\" \"MB21D1\"    \"TMEM173\"   \"TPSAB1/B2\"\n",
       "[13] \"TTC30A\"    \"XCL1/2\"   "
      ]
     },
     "metadata": {},
     "output_type": "display_data"
    },
    {
     "data": {
      "text/html": [
       "<style>\n",
       ".list-inline {list-style: none; margin:0; padding: 0}\n",
       ".list-inline>li {display: inline-block}\n",
       ".list-inline>li:not(:last-child)::after {content: \"\\00b7\"; padding: 0 .5ex}\n",
       "</style>\n",
       "<ol class=list-inline><li>'CD45RA'</li><li>'CD45RB'</li><li>'CD45RO'</li><li>'MAGEA3/A6'</li></ol>\n"
      ],
      "text/latex": [
       "\\begin{enumerate*}\n",
       "\\item 'CD45RA'\n",
       "\\item 'CD45RB'\n",
       "\\item 'CD45RO'\n",
       "\\item 'MAGEA3/A6'\n",
       "\\end{enumerate*}\n"
      ],
      "text/markdown": [
       "1. 'CD45RA'\n",
       "2. 'CD45RB'\n",
       "3. 'CD45RO'\n",
       "4. 'MAGEA3/A6'\n",
       "\n",
       "\n"
      ],
      "text/plain": [
       "[1] \"CD45RA\"    \"CD45RB\"    \"CD45RO\"    \"MAGEA3/A6\""
      ]
     },
     "metadata": {},
     "output_type": "display_data"
    }
   ],
   "source": [
    "# gene names not found in RNA-seq but in Nano\n",
    "setdiff(nano_raw$Geneid, rna_raw$Geneid)\n",
    "hand_annot_both = c(\"CCL3/L1\"=\"CCL3\", \n",
    "                    'FCGR3A/B'=\"FCGR3B\", \n",
    "                    \"TPSAB1/B2\"=\"TPSAB1\", \n",
    "                    \"XCL1/2\"=\"XCL1\", \n",
    "                   \"CLECL1\"=\"CLECL1P\", # old HGNC symbol\n",
    "                   \"CXorf36\"=\"DIPK2B\", # old HGNC symbol\n",
    "                   \"H2AFX\"=\"H2AX\", # old HGNC symbol\n",
    "                   \"MB21D1\"=\"CGAS\", # old HGNC symbol\n",
    "                    \"TMEM173\"=\"STING1\", # old HGNC symbol\n",
    "                    \"TTC30A\"=\"IFT70A\" # old HGNC symbol\n",
    "                   )\n",
    "for (gene_name in names(hand_annot_both)) {\n",
    "    nano_raw[nano_raw$Geneid == gene_name,]$Geneid <- hand_annot_both[gene_name]\n",
    "    nano_norm[nano_norm$Geneid == gene_name,]$Geneid <- hand_annot_both[gene_name]\n",
    "    }\n",
    "setdiff(nano_raw$Geneid, rna_raw$Geneid)"
   ]
  },
  {
   "cell_type": "code",
   "execution_count": 67,
   "id": "0bdc798c-ae99-4d73-96c7-5c1d4e6d5da7",
   "metadata": {},
   "outputs": [],
   "source": [
    "# remove these genes from nanostring since no clear replacement with RNAseq\n",
    "nano_raw <- nano_raw[!nano_raw$Geneid %in% c('CD45RA','CD45RB','CD45RO','MAGEA3/A6'),]\n",
    "nano_norm <- nano_norm[!nano_norm$Geneid %in% c('CD45RA','CD45RB','CD45RO','MAGEA3/A6'),]"
   ]
  },
  {
   "cell_type": "markdown",
   "id": "b1963229-5705-4799-891f-a1428cfb7935",
   "metadata": {},
   "source": [
    "There is no equivalent of CD45RA|B|O in the latest reference genomes (like the coordinates were removed)."
   ]
  },
  {
   "cell_type": "markdown",
   "id": "2aadcedb-75d3-4a2a-ab5d-c04963b17480",
   "metadata": {},
   "source": [
    "## 3. Get the normalized data for RNA-seq\n",
    "Normalizing counts with DESeq2 median ratio method"
   ]
  },
  {
   "cell_type": "code",
   "execution_count": 49,
   "id": "268f1d23-6c9f-4ce1-b572-1550dc8dd48f",
   "metadata": {},
   "outputs": [
    {
     "data": {
      "text/html": [
       "20"
      ],
      "text/latex": [
       "20"
      ],
      "text/markdown": [
       "20"
      ],
      "text/plain": [
       "[1] 20"
      ]
     },
     "metadata": {},
     "output_type": "display_data"
    },
    {
     "data": {
      "text/html": [
       "<style>\n",
       ".list-inline {list-style: none; margin:0; padding: 0}\n",
       ".list-inline>li {display: inline-block}\n",
       ".list-inline>li:not(:last-child)::after {content: \"\\00b7\"; padding: 0 .5ex}\n",
       "</style>\n",
       "<ol class=list-inline><li>'ABCF1'</li><li>'DNAJC14'</li><li>'ERCC3'</li><li>'G6PD'</li><li>'GUSB'</li><li>'MRPL19'</li><li>'NRDE2'</li><li>'OAZ1'</li><li>'POLR2A'</li><li>'PSMC4'</li><li>'PUM1'</li><li>'SDHA'</li><li>'SF3A1'</li><li>'STK11IP'</li><li>'TBC1D10B'</li><li>'TBP'</li><li>'TFRC'</li><li>'TLK2'</li><li>'TMUB2'</li><li>'UBB'</li></ol>\n"
      ],
      "text/latex": [
       "\\begin{enumerate*}\n",
       "\\item 'ABCF1'\n",
       "\\item 'DNAJC14'\n",
       "\\item 'ERCC3'\n",
       "\\item 'G6PD'\n",
       "\\item 'GUSB'\n",
       "\\item 'MRPL19'\n",
       "\\item 'NRDE2'\n",
       "\\item 'OAZ1'\n",
       "\\item 'POLR2A'\n",
       "\\item 'PSMC4'\n",
       "\\item 'PUM1'\n",
       "\\item 'SDHA'\n",
       "\\item 'SF3A1'\n",
       "\\item 'STK11IP'\n",
       "\\item 'TBC1D10B'\n",
       "\\item 'TBP'\n",
       "\\item 'TFRC'\n",
       "\\item 'TLK2'\n",
       "\\item 'TMUB2'\n",
       "\\item 'UBB'\n",
       "\\end{enumerate*}\n"
      ],
      "text/markdown": [
       "1. 'ABCF1'\n",
       "2. 'DNAJC14'\n",
       "3. 'ERCC3'\n",
       "4. 'G6PD'\n",
       "5. 'GUSB'\n",
       "6. 'MRPL19'\n",
       "7. 'NRDE2'\n",
       "8. 'OAZ1'\n",
       "9. 'POLR2A'\n",
       "10. 'PSMC4'\n",
       "11. 'PUM1'\n",
       "12. 'SDHA'\n",
       "13. 'SF3A1'\n",
       "14. 'STK11IP'\n",
       "15. 'TBC1D10B'\n",
       "16. 'TBP'\n",
       "17. 'TFRC'\n",
       "18. 'TLK2'\n",
       "19. 'TMUB2'\n",
       "20. 'UBB'\n",
       "\n",
       "\n"
      ],
      "text/plain": [
       " [1] \"ABCF1\"    \"DNAJC14\"  \"ERCC3\"    \"G6PD\"     \"GUSB\"     \"MRPL19\"  \n",
       " [7] \"NRDE2\"    \"OAZ1\"     \"POLR2A\"   \"PSMC4\"    \"PUM1\"     \"SDHA\"    \n",
       "[13] \"SF3A1\"    \"STK11IP\"  \"TBC1D10B\" \"TBP\"      \"TFRC\"     \"TLK2\"    \n",
       "[19] \"TMUB2\"    \"UBB\"     "
      ]
     },
     "metadata": {},
     "output_type": "display_data"
    },
    {
     "data": {
      "text/html": [
       "196"
      ],
      "text/latex": [
       "196"
      ],
      "text/markdown": [
       "196"
      ],
      "text/plain": [
       "[1] 196"
      ]
     },
     "metadata": {},
     "output_type": "display_data"
    },
    {
     "data": {
      "text/html": [
       "19"
      ],
      "text/latex": [
       "19"
      ],
      "text/markdown": [
       "19"
      ],
      "text/plain": [
       "[1] 19"
      ]
     },
     "metadata": {},
     "output_type": "display_data"
    },
    {
     "data": {
      "text/html": [
       "191"
      ],
      "text/latex": [
       "191"
      ],
      "text/markdown": [
       "191"
      ],
      "text/plain": [
       "[1] 191"
      ]
     },
     "metadata": {},
     "output_type": "display_data"
    }
   ],
   "source": [
    "# include the same housekeeping genes that the nanostring used\n",
    "length(nano_hk_genes)\n",
    "nano_hk_genes\n",
    "\n",
    "housekeeping_genes <- c(\n",
    "  \"ACTB\", \"GAPDH\", \"B2M\", \"RPLP0\", \"PGK1\", \"HPRT1\", \"TBP\", \"TUBB\", \"YWHAG\", \"TFRC\",\n",
    "  \"HMBS\", \"EEF1A1\", \"PPIA\", \"RPS18\", \"ALDOA\", \"RPL13A\", \"RPL32\", \"RPL19\", \"RPS9\", \"SDHA\",\n",
    "  \"LDHA\", \"ATP5B\", \"MDH1\", \"NADH5\", \"SNRPD3\", \"GUSB\", \"VCP\", \"PSMB4\", \"CYC1\",\n",
    "  \"RPS8\", \"RPS13\", \"RPL11\", \"RPL23\", \"RPL27\", \"PSMB1\", \"PSMC2\", \"RPS11\", \"RPL10A\", \"RPS21\",\n",
    "  \"RPS27A\", \"RPL14\", \"ATP5O\", \"CS\", \"ENO1\", \"RPS4X\", \"UQCRC2\", \"ATP6V1E1\", \"UCHL5\",\n",
    "  \"VDAC1\", \"RPL6\", \"RPL7A\", \"RPS5\", \"RPL30\", \"TUBA1A\", \"TUBA1B\", \"TUBA4A\", \"RPS3\", \"RPS3A\",\n",
    "  \"RPS7\", \"RPLP1\", \"UQCRB\", \"RPL12\", \"RPL13\", \"RPL28\", \"EEF2\", \"ATF6\", \"NDUFA1\",\n",
    "  \"NDUFA2\", \"NDUFA4\", \"ATP5A1\", \"RPL26\", \"NDUFB5\", \"NDUFB8\", \"RPS15\", \"NDUFS2\", \"COX7A2\",\n",
    "  \"CCT6A\", \"CCT8\", \"CCT3\", \"PSMA6\", \"RPL31\", \"RPL15\", \"RPS14\", \"RPL35A\", \"COX4I1\", \"RPL4\",\n",
    "  \"NDUFV1\", \"NDUFV2\", \"UQCRFS1\",  \"RPS19\", \"RPS20\",\n",
    "  \"TUBG1\", \"VAMP2\", \"VAMP3\", \"VDAC2\", \"ATP6V1A\", \"ATP6V1C1\", \"COX5A\", \"COX5B\", \"COX6B1\",\n",
    "  \"COX6C\", \"CYCS\", \"ENO2\", \"FASN\", \"FH\", \"FTH1\", \"FUS\", \"GLS\", \"GPI\", \"GSK3B\", \"HADHA\",\n",
    "  \"HDAC1\", \"HDAC2\", \"HDAC3\",   \"IDH3A\", \"IDH3B\", \"IGF1R\",\n",
    "  \"IMPDH1\", \"KARS\", \"LDHB\", \"LMNB1\",  \"MTHFD1\", \"MYH9\", \"NDUFA9\",\n",
    "  \"NDUFB3\", \"NDUFS1\", \"NDUFV3\", \"OAT\", \"PDHA1\", \"PPIB\", \"PRKACA\", \"PSMA5\",\n",
    "  \"PSMB2\", \"PSMD1\", \"PSMD2\", \"PTMA\", \"RAN\", \"RELA\", \"RHOA\", \"RPL18A\", \"RPL21\", \"RPL22\",\n",
    "  \"RPL29\", \"RPL34\", \"RPL37\", \"RPL38\", \"RPL5\", \"RPL9\", \"RPS16\", \"RPS17\", \"RPS23\", \"RPS24\",\n",
    "  \"RPS25\", \"RPS26\", \"SDHB\", \"SRP9\", \"ST13\", \"STMN1\", \"SUCLG1\", \"TFAM\", \n",
    "  \"TKT\", \"TMED2\", \"TMEM97\", \"TPM1\", \"TUBA1C\", \"TUBB2B\", \"TXN\", \"TXNRD1\", \"UBC\",\n",
    "  \"UBE2I\", \"UBE2N\", \"UCHL1\", \"VDAC3\", \"VIM\", \"VPS29\", \"VPS35\", \"XPO1\", \"YWHAE\", \"YWHAQ\",\n",
    "  \"ZNF652\", \"ZNF654\", \"ABCF1\", \"DNAJC14\", \"ERCC3\", \"G6PD\",  \"NRDE2\", \"OAZ1\", \n",
    "  \"POLR2A\", \"PSMC4\", \"PUM1\", \"SF3A1\", \"STK11IP\", \"TBC1D10B\", \"TLK2\", \"TMUB2\", \"UBB\"\n",
    ")\n",
    "\n",
    "length(housekeeping_genes)\n",
    "length(intersect(housekeeping_genes, nano_hk_genes))\n",
    "length(intersect(housekeeping_genes, rna_raw$Geneid))"
   ]
  },
  {
   "cell_type": "code",
   "execution_count": 52,
   "id": "f86b9a0f-15cf-4ace-ad16-426e7e561232",
   "metadata": {},
   "outputs": [
    {
     "data": {
      "text/html": [
       "<table class=\"dataframe\">\n",
       "<caption>A data.table: 2 × 3</caption>\n",
       "<thead>\n",
       "\t<tr><th scope=col>Name</th><th scope=col>Patient</th><th scope=col>Timing</th></tr>\n",
       "\t<tr><th scope=col>&lt;chr&gt;</th><th scope=col>&lt;chr&gt;</th><th scope=col>&lt;chr&gt;</th></tr>\n",
       "</thead>\n",
       "<tbody>\n",
       "\t<tr><td>Pat1_Pre</td><td>Pat1</td><td>Pre</td></tr>\n",
       "\t<tr><td>Pat2_Pre</td><td>Pat2</td><td>Pre</td></tr>\n",
       "</tbody>\n",
       "</table>\n"
      ],
      "text/latex": [
       "A data.table: 2 × 3\n",
       "\\begin{tabular}{lll}\n",
       " Name & Patient & Timing\\\\\n",
       " <chr> & <chr> & <chr>\\\\\n",
       "\\hline\n",
       "\t Pat1\\_Pre & Pat1 & Pre\\\\\n",
       "\t Pat2\\_Pre & Pat2 & Pre\\\\\n",
       "\\end{tabular}\n"
      ],
      "text/markdown": [
       "\n",
       "A data.table: 2 × 3\n",
       "\n",
       "| Name &lt;chr&gt; | Patient &lt;chr&gt; | Timing &lt;chr&gt; |\n",
       "|---|---|---|\n",
       "| Pat1_Pre | Pat1 | Pre |\n",
       "| Pat2_Pre | Pat2 | Pre |\n",
       "\n"
      ],
      "text/plain": [
       "  Name     Patient Timing\n",
       "1 Pat1_Pre Pat1    Pre   \n",
       "2 Pat2_Pre Pat2    Pre   "
      ]
     },
     "metadata": {},
     "output_type": "display_data"
    }
   ],
   "source": [
    "# get the design\n",
    "name_list = setdiff( colnames(rna_raw), \"Geneid\")\n",
    "split = str_split_fixed(name_list, \"_\", 2)\n",
    "rna_design <- data.table(\"Name\"=name_list, \n",
    "                        \"Patient\"=split[,1], \"Timing\"=split[,2])\n",
    "rna_design[1:2,]"
   ]
  },
  {
   "cell_type": "code",
   "execution_count": 55,
   "id": "cb4b8b03-2708-491b-a91f-bb7728d9e098",
   "metadata": {},
   "outputs": [
    {
     "data": {
      "text/html": [
       "<table class=\"dataframe\">\n",
       "<caption>A matrix: 2 × 48 of type int</caption>\n",
       "<thead>\n",
       "\t<tr><th scope=col>Pat1_Pre</th><th scope=col>Pat2_Pre</th><th scope=col>Pat3_Pre</th><th scope=col>Pat4_Pre</th><th scope=col>Pat5_Pre</th><th scope=col>Pat6_Pre</th><th scope=col>Pat7_Pre</th><th scope=col>Pat8_Pre</th><th scope=col>Pat9_Pre</th><th scope=col>Pat10_Pre</th><th scope=col>⋯</th><th scope=col>Pat15_Post</th><th scope=col>Pat16_Post</th><th scope=col>Pat17_Post</th><th scope=col>Pat18_Post</th><th scope=col>Pat19_Post</th><th scope=col>Pat20_Post</th><th scope=col>Pat21_Post</th><th scope=col>Pat22_Post</th><th scope=col>Pat23_Post</th><th scope=col>Pat24_Post</th></tr>\n",
       "</thead>\n",
       "<tbody>\n",
       "\t<tr><td> 0</td><td> 0</td><td> 0</td><td> 0</td><td>  0</td><td> 0</td><td> 0</td><td> 0</td><td> 0</td><td> 1</td><td>⋯</td><td> 0</td><td> 1</td><td> 0</td><td> 0</td><td>  0</td><td> 0</td><td> 0</td><td>  0</td><td> 2</td><td> 0</td></tr>\n",
       "\t<tr><td>58</td><td>53</td><td>56</td><td>52</td><td>101</td><td>39</td><td>54</td><td>62</td><td>46</td><td>62</td><td>⋯</td><td>13</td><td>62</td><td>52</td><td>38</td><td>109</td><td>72</td><td>65</td><td>109</td><td>66</td><td>90</td></tr>\n",
       "</tbody>\n",
       "</table>\n"
      ],
      "text/latex": [
       "A matrix: 2 × 48 of type int\n",
       "\\begin{tabular}{lllllllllllllllllllll}\n",
       " Pat1\\_Pre & Pat2\\_Pre & Pat3\\_Pre & Pat4\\_Pre & Pat5\\_Pre & Pat6\\_Pre & Pat7\\_Pre & Pat8\\_Pre & Pat9\\_Pre & Pat10\\_Pre & ⋯ & Pat15\\_Post & Pat16\\_Post & Pat17\\_Post & Pat18\\_Post & Pat19\\_Post & Pat20\\_Post & Pat21\\_Post & Pat22\\_Post & Pat23\\_Post & Pat24\\_Post\\\\\n",
       "\\hline\n",
       "\t  0 &  0 &  0 &  0 &   0 &  0 &  0 &  0 &  0 &  1 & ⋯ &  0 &  1 &  0 &  0 &   0 &  0 &  0 &   0 &  2 &  0\\\\\n",
       "\t 58 & 53 & 56 & 52 & 101 & 39 & 54 & 62 & 46 & 62 & ⋯ & 13 & 62 & 52 & 38 & 109 & 72 & 65 & 109 & 66 & 90\\\\\n",
       "\\end{tabular}\n"
      ],
      "text/markdown": [
       "\n",
       "A matrix: 2 × 48 of type int\n",
       "\n",
       "| Pat1_Pre | Pat2_Pre | Pat3_Pre | Pat4_Pre | Pat5_Pre | Pat6_Pre | Pat7_Pre | Pat8_Pre | Pat9_Pre | Pat10_Pre | ⋯ | Pat15_Post | Pat16_Post | Pat17_Post | Pat18_Post | Pat19_Post | Pat20_Post | Pat21_Post | Pat22_Post | Pat23_Post | Pat24_Post |\n",
       "|---|---|---|---|---|---|---|---|---|---|---|---|---|---|---|---|---|---|---|---|---|\n",
       "|  0 |  0 |  0 |  0 |   0 |  0 |  0 |  0 |  0 |  1 | ⋯ |  0 |  1 |  0 |  0 |   0 |  0 |  0 |   0 |  2 |  0 |\n",
       "| 58 | 53 | 56 | 52 | 101 | 39 | 54 | 62 | 46 | 62 | ⋯ | 13 | 62 | 52 | 38 | 109 | 72 | 65 | 109 | 66 | 90 |\n",
       "\n"
      ],
      "text/plain": [
       "     Pat1_Pre Pat2_Pre Pat3_Pre Pat4_Pre Pat5_Pre Pat6_Pre Pat7_Pre Pat8_Pre\n",
       "[1,]  0        0        0        0         0       0        0        0      \n",
       "[2,] 58       53       56       52       101      39       54       62      \n",
       "     Pat9_Pre Pat10_Pre ⋯ Pat15_Post Pat16_Post Pat17_Post Pat18_Post\n",
       "[1,]  0        1        ⋯  0          1          0          0        \n",
       "[2,] 46       62        ⋯ 13         62         52         38        \n",
       "     Pat19_Post Pat20_Post Pat21_Post Pat22_Post Pat23_Post Pat24_Post\n",
       "[1,]   0         0          0           0         2          0        \n",
       "[2,] 109        72         65         109        66         90        "
      ]
     },
     "metadata": {},
     "output_type": "display_data"
    },
    {
     "name": "stderr",
     "output_type": "stream",
     "text": [
      "Warning message in DESeqDataSet(se, design = design, ignoreRank):\n",
      "“some variables in design formula are characters, converting to factors”\n"
     ]
    },
    {
     "data": {
      "text/html": [
       "191"
      ],
      "text/latex": [
       "191"
      ],
      "text/markdown": [
       "191"
      ],
      "text/plain": [
       "[1] 191"
      ]
     },
     "metadata": {},
     "output_type": "display_data"
    },
    {
     "data": {
      "text/html": [
       "<table class=\"dataframe\">\n",
       "<caption>A data.table: 2 × 4</caption>\n",
       "<thead>\n",
       "\t<tr><th scope=col>Name</th><th scope=col>Patient</th><th scope=col>Timing</th><th scope=col>sizeFactors</th></tr>\n",
       "\t<tr><th scope=col>&lt;chr&gt;</th><th scope=col>&lt;chr&gt;</th><th scope=col>&lt;chr&gt;</th><th scope=col>&lt;dbl&gt;</th></tr>\n",
       "</thead>\n",
       "<tbody>\n",
       "\t<tr><td>Pat1_Pre</td><td>Pat1</td><td>Pre</td><td>0.7351349</td></tr>\n",
       "\t<tr><td>Pat2_Pre</td><td>Pat2</td><td>Pre</td><td>1.3288342</td></tr>\n",
       "</tbody>\n",
       "</table>\n"
      ],
      "text/latex": [
       "A data.table: 2 × 4\n",
       "\\begin{tabular}{llll}\n",
       " Name & Patient & Timing & sizeFactors\\\\\n",
       " <chr> & <chr> & <chr> & <dbl>\\\\\n",
       "\\hline\n",
       "\t Pat1\\_Pre & Pat1 & Pre & 0.7351349\\\\\n",
       "\t Pat2\\_Pre & Pat2 & Pre & 1.3288342\\\\\n",
       "\\end{tabular}\n"
      ],
      "text/markdown": [
       "\n",
       "A data.table: 2 × 4\n",
       "\n",
       "| Name &lt;chr&gt; | Patient &lt;chr&gt; | Timing &lt;chr&gt; | sizeFactors &lt;dbl&gt; |\n",
       "|---|---|---|---|\n",
       "| Pat1_Pre | Pat1 | Pre | 0.7351349 |\n",
       "| Pat2_Pre | Pat2 | Pre | 1.3288342 |\n",
       "\n"
      ],
      "text/plain": [
       "  Name     Patient Timing sizeFactors\n",
       "1 Pat1_Pre Pat1    Pre    0.7351349  \n",
       "2 Pat2_Pre Pat2    Pre    1.3288342  "
      ]
     },
     "metadata": {},
     "output_type": "display_data"
    }
   ],
   "source": [
    "# normalize the counts according to housekeeping genes\n",
    "rna_matrix = as.matrix(rna_raw[,2:49])\n",
    "rna_matrix[1:2,]\n",
    "rownames(rna_matrix) <- rna_raw$Geneid\n",
    "dds_rna <- DESeqDataSetFromMatrix(countData = rna_matrix, colData = rna_design, \n",
    "                                    design = ~ Timing+Patient)\n",
    "isControl <- which(rownames(rna_matrix) %in% housekeeping_genes)\n",
    "length(isControl)\n",
    "dds_rna = estimateSizeFactors(dds_rna, type=\"ratio\", controlGenes=isControl)\n",
    "\n",
    "rna_design$sizeFactors = sizeFactors(dds_rna)\n",
    "rna_design[1:2,]"
   ]
  },
  {
   "cell_type": "code",
   "execution_count": 58,
   "id": "f73ac55b-36cb-43d3-b77c-9ab986b1237c",
   "metadata": {},
   "outputs": [
    {
     "data": {
      "text/html": [
       "<table class=\"dataframe\">\n",
       "<caption>A data.frame: 2 × 48</caption>\n",
       "<thead>\n",
       "\t<tr><th></th><th scope=col>Pat1_Pre</th><th scope=col>Pat2_Pre</th><th scope=col>Pat3_Pre</th><th scope=col>Pat4_Pre</th><th scope=col>Pat5_Pre</th><th scope=col>Pat6_Pre</th><th scope=col>Pat7_Pre</th><th scope=col>Pat8_Pre</th><th scope=col>Pat9_Pre</th><th scope=col>Pat10_Pre</th><th scope=col>⋯</th><th scope=col>Pat15_Post</th><th scope=col>Pat16_Post</th><th scope=col>Pat17_Post</th><th scope=col>Pat18_Post</th><th scope=col>Pat19_Post</th><th scope=col>Pat20_Post</th><th scope=col>Pat21_Post</th><th scope=col>Pat22_Post</th><th scope=col>Pat23_Post</th><th scope=col>Pat24_Post</th></tr>\n",
       "\t<tr><th></th><th scope=col>&lt;dbl&gt;</th><th scope=col>&lt;dbl&gt;</th><th scope=col>&lt;dbl&gt;</th><th scope=col>&lt;dbl&gt;</th><th scope=col>&lt;dbl&gt;</th><th scope=col>&lt;dbl&gt;</th><th scope=col>&lt;dbl&gt;</th><th scope=col>&lt;dbl&gt;</th><th scope=col>&lt;dbl&gt;</th><th scope=col>&lt;dbl&gt;</th><th scope=col>⋯</th><th scope=col>&lt;dbl&gt;</th><th scope=col>&lt;dbl&gt;</th><th scope=col>&lt;dbl&gt;</th><th scope=col>&lt;dbl&gt;</th><th scope=col>&lt;dbl&gt;</th><th scope=col>&lt;dbl&gt;</th><th scope=col>&lt;dbl&gt;</th><th scope=col>&lt;dbl&gt;</th><th scope=col>&lt;dbl&gt;</th><th scope=col>&lt;dbl&gt;</th></tr>\n",
       "</thead>\n",
       "<tbody>\n",
       "\t<tr><th scope=row>DDX11L1</th><td> 0.00000</td><td> 0.00000</td><td> 0.00000</td><td> 0.0000</td><td>  0.0000</td><td> 0.00000</td><td> 0.00000</td><td> 0.00000</td><td> 0.00000</td><td> 1.302533</td><td>⋯</td><td> 0.00000</td><td> 1.203451</td><td> 0.0000</td><td> 0.00000</td><td> 0.00000</td><td> 0.00000</td><td> 0.0000</td><td> 0.00000</td><td> 1.575529</td><td> 0.00000</td></tr>\n",
       "\t<tr><th scope=row>WASH7P</th><td>78.89709</td><td>39.88458</td><td>83.89762</td><td>44.4871</td><td>102.9405</td><td>37.17523</td><td>74.35041</td><td>56.76998</td><td>50.41182</td><td>80.757030</td><td>⋯</td><td>25.53646</td><td>74.613979</td><td>58.8776</td><td>48.13744</td><td>70.82806</td><td>52.46804</td><td>41.6948</td><td>82.02715</td><td>51.992460</td><td>60.45489</td></tr>\n",
       "</tbody>\n",
       "</table>\n"
      ],
      "text/latex": [
       "A data.frame: 2 × 48\n",
       "\\begin{tabular}{r|lllllllllllllllllllll}\n",
       "  & Pat1\\_Pre & Pat2\\_Pre & Pat3\\_Pre & Pat4\\_Pre & Pat5\\_Pre & Pat6\\_Pre & Pat7\\_Pre & Pat8\\_Pre & Pat9\\_Pre & Pat10\\_Pre & ⋯ & Pat15\\_Post & Pat16\\_Post & Pat17\\_Post & Pat18\\_Post & Pat19\\_Post & Pat20\\_Post & Pat21\\_Post & Pat22\\_Post & Pat23\\_Post & Pat24\\_Post\\\\\n",
       "  & <dbl> & <dbl> & <dbl> & <dbl> & <dbl> & <dbl> & <dbl> & <dbl> & <dbl> & <dbl> & ⋯ & <dbl> & <dbl> & <dbl> & <dbl> & <dbl> & <dbl> & <dbl> & <dbl> & <dbl> & <dbl>\\\\\n",
       "\\hline\n",
       "\tDDX11L1 &  0.00000 &  0.00000 &  0.00000 &  0.0000 &   0.0000 &  0.00000 &  0.00000 &  0.00000 &  0.00000 &  1.302533 & ⋯ &  0.00000 &  1.203451 &  0.0000 &  0.00000 &  0.00000 &  0.00000 &  0.0000 &  0.00000 &  1.575529 &  0.00000\\\\\n",
       "\tWASH7P & 78.89709 & 39.88458 & 83.89762 & 44.4871 & 102.9405 & 37.17523 & 74.35041 & 56.76998 & 50.41182 & 80.757030 & ⋯ & 25.53646 & 74.613979 & 58.8776 & 48.13744 & 70.82806 & 52.46804 & 41.6948 & 82.02715 & 51.992460 & 60.45489\\\\\n",
       "\\end{tabular}\n"
      ],
      "text/markdown": [
       "\n",
       "A data.frame: 2 × 48\n",
       "\n",
       "| <!--/--> | Pat1_Pre &lt;dbl&gt; | Pat2_Pre &lt;dbl&gt; | Pat3_Pre &lt;dbl&gt; | Pat4_Pre &lt;dbl&gt; | Pat5_Pre &lt;dbl&gt; | Pat6_Pre &lt;dbl&gt; | Pat7_Pre &lt;dbl&gt; | Pat8_Pre &lt;dbl&gt; | Pat9_Pre &lt;dbl&gt; | Pat10_Pre &lt;dbl&gt; | ⋯ ⋯ | Pat15_Post &lt;dbl&gt; | Pat16_Post &lt;dbl&gt; | Pat17_Post &lt;dbl&gt; | Pat18_Post &lt;dbl&gt; | Pat19_Post &lt;dbl&gt; | Pat20_Post &lt;dbl&gt; | Pat21_Post &lt;dbl&gt; | Pat22_Post &lt;dbl&gt; | Pat23_Post &lt;dbl&gt; | Pat24_Post &lt;dbl&gt; |\n",
       "|---|---|---|---|---|---|---|---|---|---|---|---|---|---|---|---|---|---|---|---|---|---|\n",
       "| DDX11L1 |  0.00000 |  0.00000 |  0.00000 |  0.0000 |   0.0000 |  0.00000 |  0.00000 |  0.00000 |  0.00000 |  1.302533 | ⋯ |  0.00000 |  1.203451 |  0.0000 |  0.00000 |  0.00000 |  0.00000 |  0.0000 |  0.00000 |  1.575529 |  0.00000 |\n",
       "| WASH7P | 78.89709 | 39.88458 | 83.89762 | 44.4871 | 102.9405 | 37.17523 | 74.35041 | 56.76998 | 50.41182 | 80.757030 | ⋯ | 25.53646 | 74.613979 | 58.8776 | 48.13744 | 70.82806 | 52.46804 | 41.6948 | 82.02715 | 51.992460 | 60.45489 |\n",
       "\n"
      ],
      "text/plain": [
       "        Pat1_Pre Pat2_Pre Pat3_Pre Pat4_Pre Pat5_Pre Pat6_Pre Pat7_Pre Pat8_Pre\n",
       "DDX11L1  0.00000  0.00000  0.00000  0.0000    0.0000  0.00000  0.00000  0.00000\n",
       "WASH7P  78.89709 39.88458 83.89762 44.4871  102.9405 37.17523 74.35041 56.76998\n",
       "        Pat9_Pre Pat10_Pre ⋯ Pat15_Post Pat16_Post Pat17_Post Pat18_Post\n",
       "DDX11L1  0.00000  1.302533 ⋯  0.00000    1.203451   0.0000     0.00000  \n",
       "WASH7P  50.41182 80.757030 ⋯ 25.53646   74.613979  58.8776    48.13744  \n",
       "        Pat19_Post Pat20_Post Pat21_Post Pat22_Post Pat23_Post Pat24_Post\n",
       "DDX11L1  0.00000    0.00000    0.0000     0.00000    1.575529   0.00000  \n",
       "WASH7P  70.82806   52.46804   41.6948    82.02715   51.992460  60.45489  "
      ]
     },
     "metadata": {},
     "output_type": "display_data"
    },
    {
     "data": {
      "text/html": [
       "<table class=\"dataframe\">\n",
       "<caption>A data.frame: 2 × 49</caption>\n",
       "<thead>\n",
       "\t<tr><th></th><th scope=col>Pat1_Pre</th><th scope=col>Pat2_Pre</th><th scope=col>Pat3_Pre</th><th scope=col>Pat4_Pre</th><th scope=col>Pat5_Pre</th><th scope=col>Pat6_Pre</th><th scope=col>Pat7_Pre</th><th scope=col>Pat8_Pre</th><th scope=col>Pat9_Pre</th><th scope=col>Pat10_Pre</th><th scope=col>⋯</th><th scope=col>Pat16_Post</th><th scope=col>Pat17_Post</th><th scope=col>Pat18_Post</th><th scope=col>Pat19_Post</th><th scope=col>Pat20_Post</th><th scope=col>Pat21_Post</th><th scope=col>Pat22_Post</th><th scope=col>Pat23_Post</th><th scope=col>Pat24_Post</th><th scope=col>Geneid</th></tr>\n",
       "\t<tr><th></th><th scope=col>&lt;dbl&gt;</th><th scope=col>&lt;dbl&gt;</th><th scope=col>&lt;dbl&gt;</th><th scope=col>&lt;dbl&gt;</th><th scope=col>&lt;dbl&gt;</th><th scope=col>&lt;dbl&gt;</th><th scope=col>&lt;dbl&gt;</th><th scope=col>&lt;dbl&gt;</th><th scope=col>&lt;dbl&gt;</th><th scope=col>&lt;dbl&gt;</th><th scope=col>⋯</th><th scope=col>&lt;dbl&gt;</th><th scope=col>&lt;dbl&gt;</th><th scope=col>&lt;dbl&gt;</th><th scope=col>&lt;dbl&gt;</th><th scope=col>&lt;dbl&gt;</th><th scope=col>&lt;dbl&gt;</th><th scope=col>&lt;dbl&gt;</th><th scope=col>&lt;dbl&gt;</th><th scope=col>&lt;dbl&gt;</th><th scope=col>&lt;chr&gt;</th></tr>\n",
       "</thead>\n",
       "<tbody>\n",
       "\t<tr><th scope=row>DDX11L1</th><td> 0.00000</td><td> 0.00000</td><td> 0.00000</td><td> 0.0000</td><td>  0.0000</td><td> 0.00000</td><td> 0.00000</td><td> 0.00000</td><td> 0.00000</td><td> 1.302533</td><td>⋯</td><td> 1.203451</td><td> 0.0000</td><td> 0.00000</td><td> 0.00000</td><td> 0.00000</td><td> 0.0000</td><td> 0.00000</td><td> 1.575529</td><td> 0.00000</td><td>DDX11L1</td></tr>\n",
       "\t<tr><th scope=row>WASH7P</th><td>78.89709</td><td>39.88458</td><td>83.89762</td><td>44.4871</td><td>102.9405</td><td>37.17523</td><td>74.35041</td><td>56.76998</td><td>50.41182</td><td>80.757030</td><td>⋯</td><td>74.613979</td><td>58.8776</td><td>48.13744</td><td>70.82806</td><td>52.46804</td><td>41.6948</td><td>82.02715</td><td>51.992460</td><td>60.45489</td><td>WASH7P </td></tr>\n",
       "</tbody>\n",
       "</table>\n"
      ],
      "text/latex": [
       "A data.frame: 2 × 49\n",
       "\\begin{tabular}{r|lllllllllllllllllllll}\n",
       "  & Pat1\\_Pre & Pat2\\_Pre & Pat3\\_Pre & Pat4\\_Pre & Pat5\\_Pre & Pat6\\_Pre & Pat7\\_Pre & Pat8\\_Pre & Pat9\\_Pre & Pat10\\_Pre & ⋯ & Pat16\\_Post & Pat17\\_Post & Pat18\\_Post & Pat19\\_Post & Pat20\\_Post & Pat21\\_Post & Pat22\\_Post & Pat23\\_Post & Pat24\\_Post & Geneid\\\\\n",
       "  & <dbl> & <dbl> & <dbl> & <dbl> & <dbl> & <dbl> & <dbl> & <dbl> & <dbl> & <dbl> & ⋯ & <dbl> & <dbl> & <dbl> & <dbl> & <dbl> & <dbl> & <dbl> & <dbl> & <dbl> & <chr>\\\\\n",
       "\\hline\n",
       "\tDDX11L1 &  0.00000 &  0.00000 &  0.00000 &  0.0000 &   0.0000 &  0.00000 &  0.00000 &  0.00000 &  0.00000 &  1.302533 & ⋯ &  1.203451 &  0.0000 &  0.00000 &  0.00000 &  0.00000 &  0.0000 &  0.00000 &  1.575529 &  0.00000 & DDX11L1\\\\\n",
       "\tWASH7P & 78.89709 & 39.88458 & 83.89762 & 44.4871 & 102.9405 & 37.17523 & 74.35041 & 56.76998 & 50.41182 & 80.757030 & ⋯ & 74.613979 & 58.8776 & 48.13744 & 70.82806 & 52.46804 & 41.6948 & 82.02715 & 51.992460 & 60.45489 & WASH7P \\\\\n",
       "\\end{tabular}\n"
      ],
      "text/markdown": [
       "\n",
       "A data.frame: 2 × 49\n",
       "\n",
       "| <!--/--> | Pat1_Pre &lt;dbl&gt; | Pat2_Pre &lt;dbl&gt; | Pat3_Pre &lt;dbl&gt; | Pat4_Pre &lt;dbl&gt; | Pat5_Pre &lt;dbl&gt; | Pat6_Pre &lt;dbl&gt; | Pat7_Pre &lt;dbl&gt; | Pat8_Pre &lt;dbl&gt; | Pat9_Pre &lt;dbl&gt; | Pat10_Pre &lt;dbl&gt; | ⋯ ⋯ | Pat16_Post &lt;dbl&gt; | Pat17_Post &lt;dbl&gt; | Pat18_Post &lt;dbl&gt; | Pat19_Post &lt;dbl&gt; | Pat20_Post &lt;dbl&gt; | Pat21_Post &lt;dbl&gt; | Pat22_Post &lt;dbl&gt; | Pat23_Post &lt;dbl&gt; | Pat24_Post &lt;dbl&gt; | Geneid &lt;chr&gt; |\n",
       "|---|---|---|---|---|---|---|---|---|---|---|---|---|---|---|---|---|---|---|---|---|---|\n",
       "| DDX11L1 |  0.00000 |  0.00000 |  0.00000 |  0.0000 |   0.0000 |  0.00000 |  0.00000 |  0.00000 |  0.00000 |  1.302533 | ⋯ |  1.203451 |  0.0000 |  0.00000 |  0.00000 |  0.00000 |  0.0000 |  0.00000 |  1.575529 |  0.00000 | DDX11L1 |\n",
       "| WASH7P | 78.89709 | 39.88458 | 83.89762 | 44.4871 | 102.9405 | 37.17523 | 74.35041 | 56.76998 | 50.41182 | 80.757030 | ⋯ | 74.613979 | 58.8776 | 48.13744 | 70.82806 | 52.46804 | 41.6948 | 82.02715 | 51.992460 | 60.45489 | WASH7P  |\n",
       "\n"
      ],
      "text/plain": [
       "        Pat1_Pre Pat2_Pre Pat3_Pre Pat4_Pre Pat5_Pre Pat6_Pre Pat7_Pre Pat8_Pre\n",
       "DDX11L1  0.00000  0.00000  0.00000  0.0000    0.0000  0.00000  0.00000  0.00000\n",
       "WASH7P  78.89709 39.88458 83.89762 44.4871  102.9405 37.17523 74.35041 56.76998\n",
       "        Pat9_Pre Pat10_Pre ⋯ Pat16_Post Pat17_Post Pat18_Post Pat19_Post\n",
       "DDX11L1  0.00000  1.302533 ⋯  1.203451   0.0000     0.00000    0.00000  \n",
       "WASH7P  50.41182 80.757030 ⋯ 74.613979  58.8776    48.13744   70.82806  \n",
       "        Pat20_Post Pat21_Post Pat22_Post Pat23_Post Pat24_Post Geneid \n",
       "DDX11L1  0.00000    0.0000     0.00000    1.575529   0.00000   DDX11L1\n",
       "WASH7P  52.46804   41.6948    82.02715   51.992460  60.45489   WASH7P "
      ]
     },
     "metadata": {},
     "output_type": "display_data"
    }
   ],
   "source": [
    "rna_norm <- as.data.frame(counts(dds_rna, normalized=TRUE))\n",
    "rna_norm[1:2,]\n",
    "rna_norm$Geneid <- rownames(rna_norm)\n",
    "rna_norm[1:2,]"
   ]
  },
  {
   "cell_type": "markdown",
   "id": "83a57165-5092-4880-aded-54fa9fa64777",
   "metadata": {},
   "source": [
    "## 4. Get the filtered RNA-seq counts"
   ]
  },
  {
   "cell_type": "code",
   "execution_count": 84,
   "id": "e66d14b1-2ebe-46b2-80bd-a7afdd00937b",
   "metadata": {},
   "outputs": [
    {
     "data": {
      "text/html": [
       "765"
      ],
      "text/latex": [
       "765"
      ],
      "text/markdown": [
       "765"
      ],
      "text/plain": [
       "[1] 765"
      ]
     },
     "metadata": {},
     "output_type": "display_data"
    },
    {
     "data": {
      "text/html": [
       "766"
      ],
      "text/latex": [
       "766"
      ],
      "text/markdown": [
       "766"
      ],
      "text/plain": [
       "[1] 766"
      ]
     },
     "metadata": {},
     "output_type": "display_data"
    }
   ],
   "source": [
    "# Only RNA-seq counts with Nanostring\n",
    "rna_raw_nfilt <- rna_raw[rna_raw$Geneid %in% nano_raw$Geneid,]\n",
    "rna_norm_nfilt <- rna_norm[rna_norm$Geneid %in% nano_raw$Geneid,]\n",
    "nrow(rna_raw_nfilt)\n",
    "nrow(rna_norm_nfilt)"
   ]
  },
  {
   "cell_type": "code",
   "execution_count": 76,
   "id": "6107163e-4054-41e3-9f7f-0268a64281ac",
   "metadata": {},
   "outputs": [
    {
     "data": {
      "text/html": [
       "<style>\n",
       ".list-inline {list-style: none; margin:0; padding: 0}\n",
       ".list-inline>li {display: inline-block}\n",
       ".list-inline>li:not(:last-child)::after {content: \"\\00b7\"; padding: 0 .5ex}\n",
       "</style>\n",
       "<ol class=list-inline><li>33111</li><li>49</li></ol>\n"
      ],
      "text/latex": [
       "\\begin{enumerate*}\n",
       "\\item 33111\n",
       "\\item 49\n",
       "\\end{enumerate*}\n"
      ],
      "text/markdown": [
       "1. 33111\n",
       "2. 49\n",
       "\n",
       "\n"
      ],
      "text/plain": [
       "[1] 33111    49"
      ]
     },
     "metadata": {},
     "output_type": "display_data"
    },
    {
     "data": {
      "text/html": [
       "'LILRA3'"
      ],
      "text/latex": [
       "'LILRA3'"
      ],
      "text/markdown": [
       "'LILRA3'"
      ],
      "text/plain": [
       "[1] \"LILRA3\""
      ]
     },
     "metadata": {},
     "output_type": "display_data"
    }
   ],
   "source": [
    "# see if any of the Nanostring genes have < 5 counts total\n",
    "filt_need = 20*24\n",
    "rna_raw <- rna_raw[rowSums(rna_raw[,2:49]) > 5,]\n",
    "dim(rna_raw)\n",
    "setdiff(nano_raw$Geneid, rna_raw$Geneid)"
   ]
  },
  {
   "cell_type": "code",
   "execution_count": 83,
   "id": "5c6b416d-703e-4394-8218-7e6d289feddb",
   "metadata": {},
   "outputs": [
    {
     "name": "stdout",
     "output_type": "stream",
     "text": [
      "\n",
      "Number maintained after removing those with rowSums below 120 Raw: 22633 Norm: 22509"
     ]
    },
    {
     "data": {
      "text/html": [
       "<style>\n",
       ".list-inline {list-style: none; margin:0; padding: 0}\n",
       ".list-inline>li {display: inline-block}\n",
       ".list-inline>li:not(:last-child)::after {content: \"\\00b7\"; padding: 0 .5ex}\n",
       "</style>\n",
       "<ol class=list-inline><li>'DEFB134'</li><li>'FAM30A'</li><li>'IFNA1'</li><li>'IL17A'</li><li>'KIR2DL3'</li><li>'LILRA3'</li><li>'MAGEA12'</li><li>'MAGEB2'</li></ol>\n"
      ],
      "text/latex": [
       "\\begin{enumerate*}\n",
       "\\item 'DEFB134'\n",
       "\\item 'FAM30A'\n",
       "\\item 'IFNA1'\n",
       "\\item 'IL17A'\n",
       "\\item 'KIR2DL3'\n",
       "\\item 'LILRA3'\n",
       "\\item 'MAGEA12'\n",
       "\\item 'MAGEB2'\n",
       "\\end{enumerate*}\n"
      ],
      "text/markdown": [
       "1. 'DEFB134'\n",
       "2. 'FAM30A'\n",
       "3. 'IFNA1'\n",
       "4. 'IL17A'\n",
       "5. 'KIR2DL3'\n",
       "6. 'LILRA3'\n",
       "7. 'MAGEA12'\n",
       "8. 'MAGEB2'\n",
       "\n",
       "\n"
      ],
      "text/plain": [
       "[1] \"DEFB134\" \"FAM30A\"  \"IFNA1\"   \"IL17A\"   \"KIR2DL3\" \"LILRA3\"  \"MAGEA12\"\n",
       "[8] \"MAGEB2\" "
      ]
     },
     "metadata": {},
     "output_type": "display_data"
    },
    {
     "data": {
      "text/html": [
       "<style>\n",
       ".list-inline {list-style: none; margin:0; padding: 0}\n",
       ".list-inline>li {display: inline-block}\n",
       ".list-inline>li:not(:last-child)::after {content: \"\\00b7\"; padding: 0 .5ex}\n",
       "</style>\n",
       "<ol class=list-inline><li>'DEFB134'</li><li>'FAM30A'</li><li>'IFNA1'</li><li>'IL17A'</li><li>'KIR2DL3'</li><li>'LILRA3'</li><li>'MAGEA12'</li><li>'MAGEB2'</li></ol>\n"
      ],
      "text/latex": [
       "\\begin{enumerate*}\n",
       "\\item 'DEFB134'\n",
       "\\item 'FAM30A'\n",
       "\\item 'IFNA1'\n",
       "\\item 'IL17A'\n",
       "\\item 'KIR2DL3'\n",
       "\\item 'LILRA3'\n",
       "\\item 'MAGEA12'\n",
       "\\item 'MAGEB2'\n",
       "\\end{enumerate*}\n"
      ],
      "text/markdown": [
       "1. 'DEFB134'\n",
       "2. 'FAM30A'\n",
       "3. 'IFNA1'\n",
       "4. 'IL17A'\n",
       "5. 'KIR2DL3'\n",
       "6. 'LILRA3'\n",
       "7. 'MAGEA12'\n",
       "8. 'MAGEB2'\n",
       "\n",
       "\n"
      ],
      "text/plain": [
       "[1] \"DEFB134\" \"FAM30A\"  \"IFNA1\"   \"IL17A\"   \"KIR2DL3\" \"LILRA3\"  \"MAGEA12\"\n",
       "[8] \"MAGEB2\" "
      ]
     },
     "metadata": {},
     "output_type": "display_data"
    },
    {
     "data": {
      "text/html": [
       "<table class=\"dataframe\">\n",
       "<caption>A data.frame: 8 × 49</caption>\n",
       "<thead>\n",
       "\t<tr><th></th><th scope=col>Pat1_Pre</th><th scope=col>Pat2_Pre</th><th scope=col>Pat3_Pre</th><th scope=col>Pat4_Pre</th><th scope=col>Pat5_Pre</th><th scope=col>Pat6_Pre</th><th scope=col>Pat7_Pre</th><th scope=col>Pat8_Pre</th><th scope=col>Pat9_Pre</th><th scope=col>Pat10_Pre</th><th scope=col>⋯</th><th scope=col>Pat16_Post</th><th scope=col>Pat17_Post</th><th scope=col>Pat18_Post</th><th scope=col>Pat19_Post</th><th scope=col>Pat20_Post</th><th scope=col>Pat21_Post</th><th scope=col>Pat22_Post</th><th scope=col>Pat23_Post</th><th scope=col>Pat24_Post</th><th scope=col>Geneid</th></tr>\n",
       "\t<tr><th></th><th scope=col>&lt;dbl&gt;</th><th scope=col>&lt;dbl&gt;</th><th scope=col>&lt;dbl&gt;</th><th scope=col>&lt;dbl&gt;</th><th scope=col>&lt;dbl&gt;</th><th scope=col>&lt;dbl&gt;</th><th scope=col>&lt;dbl&gt;</th><th scope=col>&lt;dbl&gt;</th><th scope=col>&lt;dbl&gt;</th><th scope=col>&lt;dbl&gt;</th><th scope=col>⋯</th><th scope=col>&lt;dbl&gt;</th><th scope=col>&lt;dbl&gt;</th><th scope=col>&lt;dbl&gt;</th><th scope=col>&lt;dbl&gt;</th><th scope=col>&lt;dbl&gt;</th><th scope=col>&lt;dbl&gt;</th><th scope=col>&lt;dbl&gt;</th><th scope=col>&lt;dbl&gt;</th><th scope=col>&lt;dbl&gt;</th><th scope=col>&lt;chr&gt;</th></tr>\n",
       "</thead>\n",
       "<tbody>\n",
       "\t<tr><th scope=row>IL17A</th><td>0.000000</td><td>0.0000000</td><td>0.000000</td><td>0.0000000</td><td>0.000000</td><td>0.0000000</td><td>1.376859</td><td>0.0000000</td><td>0.000000</td><td>0.000000</td><td>⋯</td><td>0.000000</td><td>0.000000</td><td>0.000000</td><td>0.0000000</td><td> 2.1861682</td><td>1.2829169</td><td>0.0000000</td><td>0.7877646</td><td>6.717210</td><td>IL17A  </td></tr>\n",
       "\t<tr><th scope=row>DEFB134</th><td>0.000000</td><td>2.2576180</td><td>8.989031</td><td>1.7110423</td><td>3.057640</td><td>3.8128438</td><td>0.000000</td><td>0.9156449</td><td>8.767272</td><td>0.000000</td><td>⋯</td><td>1.203451</td><td>5.661307</td><td>1.266775</td><td>5.1983900</td><td> 1.4574455</td><td>1.2829169</td><td>1.5050852</td><td>0.0000000</td><td>0.671721</td><td>DEFB134</td></tr>\n",
       "\t<tr><th scope=row>IFNA1</th><td>0.000000</td><td>0.7525393</td><td>0.000000</td><td>1.7110423</td><td>0.000000</td><td>0.9532109</td><td>0.000000</td><td>0.9156449</td><td>1.095909</td><td>0.000000</td><td>⋯</td><td>0.000000</td><td>0.000000</td><td>2.533549</td><td>6.4979875</td><td>10.9308411</td><td>0.0000000</td><td>3.0101705</td><td>0.7877646</td><td>2.015163</td><td>IFNA1  </td></tr>\n",
       "\t<tr><th scope=row>FAM30A</th><td>5.441178</td><td>4.5152359</td><td>1.498172</td><td>5.1331268</td><td>2.038426</td><td>1.9064219</td><td>4.130578</td><td>3.6625795</td><td>1.095909</td><td>1.302533</td><td>⋯</td><td>1.203451</td><td>1.132261</td><td>0.000000</td><td>1.9493962</td><td> 2.1861682</td><td>2.5658338</td><td>3.0101705</td><td>0.0000000</td><td>0.671721</td><td>FAM30A </td></tr>\n",
       "\t<tr><th scope=row>KIR2DL3</th><td>1.360295</td><td>0.7525393</td><td>0.000000</td><td>0.8555211</td><td>4.076853</td><td>0.0000000</td><td>6.884297</td><td>0.0000000</td><td>0.000000</td><td>0.000000</td><td>⋯</td><td>2.406903</td><td>6.793569</td><td>6.333874</td><td>0.0000000</td><td> 2.9148910</td><td>0.0000000</td><td>9.7830541</td><td>1.5755291</td><td>0.000000</td><td>KIR2DL3</td></tr>\n",
       "\t<tr><th scope=row>MAGEB2</th><td>0.000000</td><td>0.7525393</td><td>0.000000</td><td>0.0000000</td><td>0.000000</td><td>4.7660547</td><td>0.000000</td><td>0.0000000</td><td>0.000000</td><td>0.000000</td><td>⋯</td><td>0.000000</td><td>3.396784</td><td>0.000000</td><td>0.6497987</td><td> 2.9148910</td><td>0.0000000</td><td>0.7525426</td><td>0.0000000</td><td>0.000000</td><td>MAGEB2 </td></tr>\n",
       "\t<tr><th scope=row>MAGEA12</th><td>2.720589</td><td>1.5050786</td><td>4.494516</td><td>0.8555211</td><td>0.000000</td><td>2.8596328</td><td>0.000000</td><td>0.0000000</td><td>0.000000</td><td>0.000000</td><td>⋯</td><td>0.000000</td><td>0.000000</td><td>0.000000</td><td>0.6497987</td><td> 0.7287227</td><td>0.6414585</td><td>0.0000000</td><td>0.0000000</td><td>0.000000</td><td>MAGEA12</td></tr>\n",
       "\t<tr><th scope=row>LILRA3</th><td>0.000000</td><td>0.0000000</td><td>0.000000</td><td>0.0000000</td><td>0.000000</td><td>0.0000000</td><td>0.000000</td><td>0.0000000</td><td>0.000000</td><td>0.000000</td><td>⋯</td><td>0.000000</td><td>0.000000</td><td>0.000000</td><td>0.0000000</td><td> 0.0000000</td><td>0.0000000</td><td>0.0000000</td><td>0.0000000</td><td>0.000000</td><td>LILRA3 </td></tr>\n",
       "</tbody>\n",
       "</table>\n"
      ],
      "text/latex": [
       "A data.frame: 8 × 49\n",
       "\\begin{tabular}{r|lllllllllllllllllllll}\n",
       "  & Pat1\\_Pre & Pat2\\_Pre & Pat3\\_Pre & Pat4\\_Pre & Pat5\\_Pre & Pat6\\_Pre & Pat7\\_Pre & Pat8\\_Pre & Pat9\\_Pre & Pat10\\_Pre & ⋯ & Pat16\\_Post & Pat17\\_Post & Pat18\\_Post & Pat19\\_Post & Pat20\\_Post & Pat21\\_Post & Pat22\\_Post & Pat23\\_Post & Pat24\\_Post & Geneid\\\\\n",
       "  & <dbl> & <dbl> & <dbl> & <dbl> & <dbl> & <dbl> & <dbl> & <dbl> & <dbl> & <dbl> & ⋯ & <dbl> & <dbl> & <dbl> & <dbl> & <dbl> & <dbl> & <dbl> & <dbl> & <dbl> & <chr>\\\\\n",
       "\\hline\n",
       "\tIL17A & 0.000000 & 0.0000000 & 0.000000 & 0.0000000 & 0.000000 & 0.0000000 & 1.376859 & 0.0000000 & 0.000000 & 0.000000 & ⋯ & 0.000000 & 0.000000 & 0.000000 & 0.0000000 &  2.1861682 & 1.2829169 & 0.0000000 & 0.7877646 & 6.717210 & IL17A  \\\\\n",
       "\tDEFB134 & 0.000000 & 2.2576180 & 8.989031 & 1.7110423 & 3.057640 & 3.8128438 & 0.000000 & 0.9156449 & 8.767272 & 0.000000 & ⋯ & 1.203451 & 5.661307 & 1.266775 & 5.1983900 &  1.4574455 & 1.2829169 & 1.5050852 & 0.0000000 & 0.671721 & DEFB134\\\\\n",
       "\tIFNA1 & 0.000000 & 0.7525393 & 0.000000 & 1.7110423 & 0.000000 & 0.9532109 & 0.000000 & 0.9156449 & 1.095909 & 0.000000 & ⋯ & 0.000000 & 0.000000 & 2.533549 & 6.4979875 & 10.9308411 & 0.0000000 & 3.0101705 & 0.7877646 & 2.015163 & IFNA1  \\\\\n",
       "\tFAM30A & 5.441178 & 4.5152359 & 1.498172 & 5.1331268 & 2.038426 & 1.9064219 & 4.130578 & 3.6625795 & 1.095909 & 1.302533 & ⋯ & 1.203451 & 1.132261 & 0.000000 & 1.9493962 &  2.1861682 & 2.5658338 & 3.0101705 & 0.0000000 & 0.671721 & FAM30A \\\\\n",
       "\tKIR2DL3 & 1.360295 & 0.7525393 & 0.000000 & 0.8555211 & 4.076853 & 0.0000000 & 6.884297 & 0.0000000 & 0.000000 & 0.000000 & ⋯ & 2.406903 & 6.793569 & 6.333874 & 0.0000000 &  2.9148910 & 0.0000000 & 9.7830541 & 1.5755291 & 0.000000 & KIR2DL3\\\\\n",
       "\tMAGEB2 & 0.000000 & 0.7525393 & 0.000000 & 0.0000000 & 0.000000 & 4.7660547 & 0.000000 & 0.0000000 & 0.000000 & 0.000000 & ⋯ & 0.000000 & 3.396784 & 0.000000 & 0.6497987 &  2.9148910 & 0.0000000 & 0.7525426 & 0.0000000 & 0.000000 & MAGEB2 \\\\\n",
       "\tMAGEA12 & 2.720589 & 1.5050786 & 4.494516 & 0.8555211 & 0.000000 & 2.8596328 & 0.000000 & 0.0000000 & 0.000000 & 0.000000 & ⋯ & 0.000000 & 0.000000 & 0.000000 & 0.6497987 &  0.7287227 & 0.6414585 & 0.0000000 & 0.0000000 & 0.000000 & MAGEA12\\\\\n",
       "\tLILRA3 & 0.000000 & 0.0000000 & 0.000000 & 0.0000000 & 0.000000 & 0.0000000 & 0.000000 & 0.0000000 & 0.000000 & 0.000000 & ⋯ & 0.000000 & 0.000000 & 0.000000 & 0.0000000 &  0.0000000 & 0.0000000 & 0.0000000 & 0.0000000 & 0.000000 & LILRA3 \\\\\n",
       "\\end{tabular}\n"
      ],
      "text/markdown": [
       "\n",
       "A data.frame: 8 × 49\n",
       "\n",
       "| <!--/--> | Pat1_Pre &lt;dbl&gt; | Pat2_Pre &lt;dbl&gt; | Pat3_Pre &lt;dbl&gt; | Pat4_Pre &lt;dbl&gt; | Pat5_Pre &lt;dbl&gt; | Pat6_Pre &lt;dbl&gt; | Pat7_Pre &lt;dbl&gt; | Pat8_Pre &lt;dbl&gt; | Pat9_Pre &lt;dbl&gt; | Pat10_Pre &lt;dbl&gt; | ⋯ ⋯ | Pat16_Post &lt;dbl&gt; | Pat17_Post &lt;dbl&gt; | Pat18_Post &lt;dbl&gt; | Pat19_Post &lt;dbl&gt; | Pat20_Post &lt;dbl&gt; | Pat21_Post &lt;dbl&gt; | Pat22_Post &lt;dbl&gt; | Pat23_Post &lt;dbl&gt; | Pat24_Post &lt;dbl&gt; | Geneid &lt;chr&gt; |\n",
       "|---|---|---|---|---|---|---|---|---|---|---|---|---|---|---|---|---|---|---|---|---|---|\n",
       "| IL17A | 0.000000 | 0.0000000 | 0.000000 | 0.0000000 | 0.000000 | 0.0000000 | 1.376859 | 0.0000000 | 0.000000 | 0.000000 | ⋯ | 0.000000 | 0.000000 | 0.000000 | 0.0000000 |  2.1861682 | 1.2829169 | 0.0000000 | 0.7877646 | 6.717210 | IL17A   |\n",
       "| DEFB134 | 0.000000 | 2.2576180 | 8.989031 | 1.7110423 | 3.057640 | 3.8128438 | 0.000000 | 0.9156449 | 8.767272 | 0.000000 | ⋯ | 1.203451 | 5.661307 | 1.266775 | 5.1983900 |  1.4574455 | 1.2829169 | 1.5050852 | 0.0000000 | 0.671721 | DEFB134 |\n",
       "| IFNA1 | 0.000000 | 0.7525393 | 0.000000 | 1.7110423 | 0.000000 | 0.9532109 | 0.000000 | 0.9156449 | 1.095909 | 0.000000 | ⋯ | 0.000000 | 0.000000 | 2.533549 | 6.4979875 | 10.9308411 | 0.0000000 | 3.0101705 | 0.7877646 | 2.015163 | IFNA1   |\n",
       "| FAM30A | 5.441178 | 4.5152359 | 1.498172 | 5.1331268 | 2.038426 | 1.9064219 | 4.130578 | 3.6625795 | 1.095909 | 1.302533 | ⋯ | 1.203451 | 1.132261 | 0.000000 | 1.9493962 |  2.1861682 | 2.5658338 | 3.0101705 | 0.0000000 | 0.671721 | FAM30A  |\n",
       "| KIR2DL3 | 1.360295 | 0.7525393 | 0.000000 | 0.8555211 | 4.076853 | 0.0000000 | 6.884297 | 0.0000000 | 0.000000 | 0.000000 | ⋯ | 2.406903 | 6.793569 | 6.333874 | 0.0000000 |  2.9148910 | 0.0000000 | 9.7830541 | 1.5755291 | 0.000000 | KIR2DL3 |\n",
       "| MAGEB2 | 0.000000 | 0.7525393 | 0.000000 | 0.0000000 | 0.000000 | 4.7660547 | 0.000000 | 0.0000000 | 0.000000 | 0.000000 | ⋯ | 0.000000 | 3.396784 | 0.000000 | 0.6497987 |  2.9148910 | 0.0000000 | 0.7525426 | 0.0000000 | 0.000000 | MAGEB2  |\n",
       "| MAGEA12 | 2.720589 | 1.5050786 | 4.494516 | 0.8555211 | 0.000000 | 2.8596328 | 0.000000 | 0.0000000 | 0.000000 | 0.000000 | ⋯ | 0.000000 | 0.000000 | 0.000000 | 0.6497987 |  0.7287227 | 0.6414585 | 0.0000000 | 0.0000000 | 0.000000 | MAGEA12 |\n",
       "| LILRA3 | 0.000000 | 0.0000000 | 0.000000 | 0.0000000 | 0.000000 | 0.0000000 | 0.000000 | 0.0000000 | 0.000000 | 0.000000 | ⋯ | 0.000000 | 0.000000 | 0.000000 | 0.0000000 |  0.0000000 | 0.0000000 | 0.0000000 | 0.0000000 | 0.000000 | LILRA3  |\n",
       "\n"
      ],
      "text/plain": [
       "        Pat1_Pre Pat2_Pre  Pat3_Pre Pat4_Pre  Pat5_Pre Pat6_Pre  Pat7_Pre\n",
       "IL17A   0.000000 0.0000000 0.000000 0.0000000 0.000000 0.0000000 1.376859\n",
       "DEFB134 0.000000 2.2576180 8.989031 1.7110423 3.057640 3.8128438 0.000000\n",
       "IFNA1   0.000000 0.7525393 0.000000 1.7110423 0.000000 0.9532109 0.000000\n",
       "FAM30A  5.441178 4.5152359 1.498172 5.1331268 2.038426 1.9064219 4.130578\n",
       "KIR2DL3 1.360295 0.7525393 0.000000 0.8555211 4.076853 0.0000000 6.884297\n",
       "MAGEB2  0.000000 0.7525393 0.000000 0.0000000 0.000000 4.7660547 0.000000\n",
       "MAGEA12 2.720589 1.5050786 4.494516 0.8555211 0.000000 2.8596328 0.000000\n",
       "LILRA3  0.000000 0.0000000 0.000000 0.0000000 0.000000 0.0000000 0.000000\n",
       "        Pat8_Pre  Pat9_Pre Pat10_Pre ⋯ Pat16_Post Pat17_Post Pat18_Post\n",
       "IL17A   0.0000000 0.000000 0.000000  ⋯ 0.000000   0.000000   0.000000  \n",
       "DEFB134 0.9156449 8.767272 0.000000  ⋯ 1.203451   5.661307   1.266775  \n",
       "IFNA1   0.9156449 1.095909 0.000000  ⋯ 0.000000   0.000000   2.533549  \n",
       "FAM30A  3.6625795 1.095909 1.302533  ⋯ 1.203451   1.132261   0.000000  \n",
       "KIR2DL3 0.0000000 0.000000 0.000000  ⋯ 2.406903   6.793569   6.333874  \n",
       "MAGEB2  0.0000000 0.000000 0.000000  ⋯ 0.000000   3.396784   0.000000  \n",
       "MAGEA12 0.0000000 0.000000 0.000000  ⋯ 0.000000   0.000000   0.000000  \n",
       "LILRA3  0.0000000 0.000000 0.000000  ⋯ 0.000000   0.000000   0.000000  \n",
       "        Pat19_Post Pat20_Post Pat21_Post Pat22_Post Pat23_Post Pat24_Post\n",
       "IL17A   0.0000000   2.1861682 1.2829169  0.0000000  0.7877646  6.717210  \n",
       "DEFB134 5.1983900   1.4574455 1.2829169  1.5050852  0.0000000  0.671721  \n",
       "IFNA1   6.4979875  10.9308411 0.0000000  3.0101705  0.7877646  2.015163  \n",
       "FAM30A  1.9493962   2.1861682 2.5658338  3.0101705  0.0000000  0.671721  \n",
       "KIR2DL3 0.0000000   2.9148910 0.0000000  9.7830541  1.5755291  0.000000  \n",
       "MAGEB2  0.6497987   2.9148910 0.0000000  0.7525426  0.0000000  0.000000  \n",
       "MAGEA12 0.6497987   0.7287227 0.6414585  0.0000000  0.0000000  0.000000  \n",
       "LILRA3  0.0000000   0.0000000 0.0000000  0.0000000  0.0000000  0.000000  \n",
       "        Geneid \n",
       "IL17A   IL17A  \n",
       "DEFB134 DEFB134\n",
       "IFNA1   IFNA1  \n",
       "FAM30A  FAM30A \n",
       "KIR2DL3 KIR2DL3\n",
       "MAGEB2  MAGEB2 \n",
       "MAGEA12 MAGEA12\n",
       "LILRA3  LILRA3 "
      ]
     },
     "metadata": {},
     "output_type": "display_data"
    }
   ],
   "source": [
    "# see how many remain after removing all counts\n",
    "# filtering based on at least half of the samples having counts of at least 5\n",
    "filt_need = 5*24\n",
    "rna_raw_filt <- rna_raw[rowSums(rna_raw[,2:49]) > filt_need,]\n",
    "rna_norm_filt <- rna_norm[rowSums(rna_norm[,1:48]) > filt_need,]\n",
    "cat(\"\\nNumber maintained after removing those with rowSums below\", filt_need, \n",
    "    \"Raw:\", nrow(rna_raw_filt), \"Norm:\", nrow(rna_norm_filt))\n",
    "\n",
    "setdiff(nano_raw$Geneid, rna_norm_filt$Geneid)\n",
    "setdiff(nano_raw$Geneid, rna_raw_filt$Geneid)\n",
    "\n",
    "rna_norm[rna_norm$Geneid %in% setdiff(nano_raw$Geneid, rna_raw_filt$Geneid),]\n",
    "\n",
    "# Have final filter include the nanostring genes still AND be based on raw counts\n",
    "rna_raw_filt <- rna_raw[rna_raw$Geneid %in% union(nano_raw$Geneid, rna_raw_filt$Geneid),]\n",
    "rna_norm_filt <- rna_norm[rna_norm$Geneid %in% rna_raw_filt$Geneid,]"
   ]
  },
  {
   "cell_type": "markdown",
   "id": "f5dcc9f9-5441-4154-8ea8-a511c83a911f",
   "metadata": {},
   "source": [
    "#### Possible next step --> stronger filter"
   ]
  },
  {
   "cell_type": "markdown",
   "id": "8658ec58-6d81-4178-a001-4475e699abb3",
   "metadata": {},
   "source": [
    "## 5. Save Results:\n"
   ]
  },
  {
   "cell_type": "code",
   "execution_count": 85,
   "id": "c899eefa-3047-41a2-8d21-9c8be7ff62d4",
   "metadata": {},
   "outputs": [],
   "source": [
    "write.table(rna_norm_filt, \"test_data/counts/RNAseq_norm_rS120filt_Adzib_1.22.25.txt\", \n",
    "            row.names=FALSE, quote=FALSE)\n",
    "write.table(rna_raw_filt, \"test_data/counts/RNAseq_raw_rS120filt_Adzib_1.22.25.txt\", \n",
    "            row.names=FALSE, quote=FALSE)\n",
    "write.table(rna_norm_nfilt, \"test_data/counts/RNAseq_norm_nanofilt_Adzib_1.22.25.txt\", \n",
    "            row.names=FALSE, quote=FALSE)\n",
    "write.table(rna_raw_nfilt, \"test_data/counts/RNAseq_raw_nanofilt_Adzib_1.22.25.txt\", \n",
    "            row.names=FALSE, quote=FALSE)\n",
    "write.table(nano_norm, \"test_data/counts/Nano_norm_James_1.22.25.txt\", \n",
    "            row.names=FALSE, quote=FALSE)\n",
    "write.table(nano_raw, \"test_data/counts/Nano_raw_James_1.22.25.txt\", \n",
    "            row.names=FALSE, quote=FALSE)"
   ]
  },
  {
   "cell_type": "code",
   "execution_count": null,
   "id": "a66c15cf-5da1-4923-979b-d8d9d16a9c87",
   "metadata": {},
   "outputs": [],
   "source": []
  }
 ],
 "metadata": {
  "kernelspec": {
   "display_name": "R 4.4",
   "language": "R",
   "name": "ir44"
  },
  "language_info": {
   "codemirror_mode": "r",
   "file_extension": ".r",
   "mimetype": "text/x-r-source",
   "name": "R",
   "pygments_lexer": "r",
   "version": "4.4.0"
  }
 },
 "nbformat": 4,
 "nbformat_minor": 5
}
